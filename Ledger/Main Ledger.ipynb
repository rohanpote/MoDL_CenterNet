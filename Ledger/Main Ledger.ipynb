{
 "cells": [
  {
   "cell_type": "markdown",
   "metadata": {},
   "source": [
    "This ledger contains all updates to the project. It includes important code snippets, information, explantion, references and other relavant information for all collaborators. "
   ]
  },
  {
   "cell_type": "markdown",
   "metadata": {},
   "source": [
    "# Date: 11/17/2019"
   ]
  },
  {
   "cell_type": "markdown",
   "metadata": {},
   "source": [
    "* Created ledger\n",
    "* Created git repository\n",
    "* Shifted ledger to git "
   ]
  },
  {
   "cell_type": "markdown",
   "metadata": {},
   "source": [
    "### Command to download a file (e.g. a model) from Google Drive\n",
    "\n",
    "wget --no-check-certificate 'https://docs.google.com/uc?export=download&id=FILEID' -O FILENAME\n",
    "\n",
    "E.g: wget --no-check-certificate 'https://drive.google.com/uc?export=download&id=1b-_sjq1Pe_dVxt5SeFmoadMfiPTPZqpz' -O ctdet_coco_resdcn18.pth"
   ]
  },
  {
   "cell_type": "markdown",
   "metadata": {},
   "source": [
    "### Make external\n",
    "~/MoDL_CenterNet/src/lib/external$ make"
   ]
  },
  {
   "cell_type": "markdown",
   "metadata": {},
   "source": [
    "### DCNv2 for Pytorch 1.0\n",
    "Repo: https://github.com/CharlesShang/DCNv2 (clone in MoDL_CenterNet/src/lib/models/networks/DCNv2/)\n",
    "\n",
    "python setup.py build  # build\n",
    "\n",
    "PYTHONPATH=\"${PYTHONPATH}:path_until_here/MoDL_CenterNet/src/lib/models/networks/DCNv2\"\n",
    "\n",
    "export PYTHONPATH\n",
    "\n",
    "python setup.py develop --instal-dir path_until_here/MoDL_CenterNet/src/lib/models/networks/DCNv2 #install\n",
    "        "
   ]
  },
  {
   "cell_type": "markdown",
   "metadata": {},
   "source": [
    "### For Test script error on unable to find model\n",
    "\n",
    "Copy the model to MoDL_CenterNet/exp/ctdet/model_name and rename to 'model_last.pth'"
   ]
  }
 ],
 "metadata": {
  "kernelspec": {
   "display_name": "Python 3",
   "language": "python",
   "name": "python3"
  },
  "language_info": {
   "codemirror_mode": {
    "name": "ipython",
    "version": 3
   },
   "file_extension": ".py",
   "mimetype": "text/x-python",
   "name": "python",
   "nbconvert_exporter": "python",
   "pygments_lexer": "ipython3",
   "version": "3.7.3"
  }
 },
 "nbformat": 4,
 "nbformat_minor": 2
}
