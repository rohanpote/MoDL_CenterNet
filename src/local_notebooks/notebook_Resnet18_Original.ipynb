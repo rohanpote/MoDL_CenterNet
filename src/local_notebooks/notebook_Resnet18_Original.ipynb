{
 "cells": [
  {
   "cell_type": "markdown",
   "metadata": {},
   "source": [
    "# Basic Model Testing"
   ]
  },
  {
   "cell_type": "code",
   "execution_count": 1,
   "metadata": {},
   "outputs": [],
   "source": [
    "import os\n",
    "import numpy as np \n",
    "import torch\n",
    "from torch import nn\n",
    "from torch.nn import functional as F \n",
    "import torch.utils.data as td\n",
    "import torchvision as tv\n",
    "import pandas as pd\n",
    "from PIL import Image\n",
    "from matplotlib import pyplot as plt\n",
    "import sys"
   ]
  },
  {
   "cell_type": "code",
   "execution_count": 2,
   "metadata": {},
   "outputs": [],
   "source": [
    "mod1 = torch.load(sys.path[0]+'/../../models/ctdet_coco_resdcn18.pth')"
   ]
  },
  {
   "cell_type": "code",
   "execution_count": 3,
   "metadata": {},
   "outputs": [
    {
     "name": "stdout",
     "output_type": "stream",
     "text": [
      "module.conv1.weight\n",
      "module.bn1.weight\n",
      "module.bn1.bias\n",
      "module.bn1.running_mean\n",
      "module.bn1.running_var\n",
      "module.bn1.num_batches_tracked\n",
      "module.layer1.0.conv1.weight\n",
      "module.layer1.0.bn1.weight\n",
      "module.layer1.0.bn1.bias\n",
      "module.layer1.0.bn1.running_mean\n",
      "module.layer1.0.bn1.running_var\n",
      "module.layer1.0.bn1.num_batches_tracked\n",
      "module.layer1.0.conv2.weight\n",
      "module.layer1.0.bn2.weight\n",
      "module.layer1.0.bn2.bias\n",
      "module.layer1.0.bn2.running_mean\n",
      "module.layer1.0.bn2.running_var\n",
      "module.layer1.0.bn2.num_batches_tracked\n",
      "module.layer1.1.conv1.weight\n",
      "module.layer1.1.bn1.weight\n",
      "module.layer1.1.bn1.bias\n",
      "module.layer1.1.bn1.running_mean\n",
      "module.layer1.1.bn1.running_var\n",
      "module.layer1.1.bn1.num_batches_tracked\n",
      "module.layer1.1.conv2.weight\n",
      "module.layer1.1.bn2.weight\n",
      "module.layer1.1.bn2.bias\n",
      "module.layer1.1.bn2.running_mean\n",
      "module.layer1.1.bn2.running_var\n",
      "module.layer1.1.bn2.num_batches_tracked\n",
      "module.layer2.0.conv1.weight\n",
      "module.layer2.0.bn1.weight\n",
      "module.layer2.0.bn1.bias\n",
      "module.layer2.0.bn1.running_mean\n",
      "module.layer2.0.bn1.running_var\n",
      "module.layer2.0.bn1.num_batches_tracked\n",
      "module.layer2.0.conv2.weight\n",
      "module.layer2.0.bn2.weight\n",
      "module.layer2.0.bn2.bias\n",
      "module.layer2.0.bn2.running_mean\n",
      "module.layer2.0.bn2.running_var\n",
      "module.layer2.0.bn2.num_batches_tracked\n",
      "module.layer2.0.downsample.0.weight\n",
      "module.layer2.0.downsample.1.weight\n",
      "module.layer2.0.downsample.1.bias\n",
      "module.layer2.0.downsample.1.running_mean\n",
      "module.layer2.0.downsample.1.running_var\n",
      "module.layer2.0.downsample.1.num_batches_tracked\n",
      "module.layer2.1.conv1.weight\n",
      "module.layer2.1.bn1.weight\n",
      "module.layer2.1.bn1.bias\n",
      "module.layer2.1.bn1.running_mean\n",
      "module.layer2.1.bn1.running_var\n",
      "module.layer2.1.bn1.num_batches_tracked\n",
      "module.layer2.1.conv2.weight\n",
      "module.layer2.1.bn2.weight\n",
      "module.layer2.1.bn2.bias\n",
      "module.layer2.1.bn2.running_mean\n",
      "module.layer2.1.bn2.running_var\n",
      "module.layer2.1.bn2.num_batches_tracked\n",
      "module.layer3.0.conv1.weight\n",
      "module.layer3.0.bn1.weight\n",
      "module.layer3.0.bn1.bias\n",
      "module.layer3.0.bn1.running_mean\n",
      "module.layer3.0.bn1.running_var\n",
      "module.layer3.0.bn1.num_batches_tracked\n",
      "module.layer3.0.conv2.weight\n",
      "module.layer3.0.bn2.weight\n",
      "module.layer3.0.bn2.bias\n",
      "module.layer3.0.bn2.running_mean\n",
      "module.layer3.0.bn2.running_var\n",
      "module.layer3.0.bn2.num_batches_tracked\n",
      "module.layer3.0.downsample.0.weight\n",
      "module.layer3.0.downsample.1.weight\n",
      "module.layer3.0.downsample.1.bias\n",
      "module.layer3.0.downsample.1.running_mean\n",
      "module.layer3.0.downsample.1.running_var\n",
      "module.layer3.0.downsample.1.num_batches_tracked\n",
      "module.layer3.1.conv1.weight\n",
      "module.layer3.1.bn1.weight\n",
      "module.layer3.1.bn1.bias\n",
      "module.layer3.1.bn1.running_mean\n",
      "module.layer3.1.bn1.running_var\n",
      "module.layer3.1.bn1.num_batches_tracked\n",
      "module.layer3.1.conv2.weight\n",
      "module.layer3.1.bn2.weight\n",
      "module.layer3.1.bn2.bias\n",
      "module.layer3.1.bn2.running_mean\n",
      "module.layer3.1.bn2.running_var\n",
      "module.layer3.1.bn2.num_batches_tracked\n",
      "module.layer4.0.conv1.weight\n",
      "module.layer4.0.bn1.weight\n",
      "module.layer4.0.bn1.bias\n",
      "module.layer4.0.bn1.running_mean\n",
      "module.layer4.0.bn1.running_var\n",
      "module.layer4.0.bn1.num_batches_tracked\n",
      "module.layer4.0.conv2.weight\n",
      "module.layer4.0.bn2.weight\n",
      "module.layer4.0.bn2.bias\n",
      "module.layer4.0.bn2.running_mean\n",
      "module.layer4.0.bn2.running_var\n",
      "module.layer4.0.bn2.num_batches_tracked\n",
      "module.layer4.0.downsample.0.weight\n",
      "module.layer4.0.downsample.1.weight\n",
      "module.layer4.0.downsample.1.bias\n",
      "module.layer4.0.downsample.1.running_mean\n",
      "module.layer4.0.downsample.1.running_var\n",
      "module.layer4.0.downsample.1.num_batches_tracked\n",
      "module.layer4.1.conv1.weight\n",
      "module.layer4.1.bn1.weight\n",
      "module.layer4.1.bn1.bias\n",
      "module.layer4.1.bn1.running_mean\n",
      "module.layer4.1.bn1.running_var\n",
      "module.layer4.1.bn1.num_batches_tracked\n",
      "module.layer4.1.conv2.weight\n",
      "module.layer4.1.bn2.weight\n",
      "module.layer4.1.bn2.bias\n",
      "module.layer4.1.bn2.running_mean\n",
      "module.layer4.1.bn2.running_var\n",
      "module.layer4.1.bn2.num_batches_tracked\n",
      "module.deconv_layers.0.weight\n",
      "module.deconv_layers.0.bias\n",
      "module.deconv_layers.0.conv_offset_mask.weight\n",
      "module.deconv_layers.0.conv_offset_mask.bias\n",
      "module.deconv_layers.1.weight\n",
      "module.deconv_layers.1.bias\n",
      "module.deconv_layers.1.running_mean\n",
      "module.deconv_layers.1.running_var\n",
      "module.deconv_layers.1.num_batches_tracked\n",
      "module.deconv_layers.3.weight\n",
      "module.deconv_layers.4.weight\n",
      "module.deconv_layers.4.bias\n",
      "module.deconv_layers.4.running_mean\n",
      "module.deconv_layers.4.running_var\n",
      "module.deconv_layers.4.num_batches_tracked\n",
      "module.deconv_layers.6.weight\n",
      "module.deconv_layers.6.bias\n",
      "module.deconv_layers.6.conv_offset_mask.weight\n",
      "module.deconv_layers.6.conv_offset_mask.bias\n",
      "module.deconv_layers.7.weight\n",
      "module.deconv_layers.7.bias\n",
      "module.deconv_layers.7.running_mean\n",
      "module.deconv_layers.7.running_var\n",
      "module.deconv_layers.7.num_batches_tracked\n",
      "module.deconv_layers.9.weight\n",
      "module.deconv_layers.10.weight\n",
      "module.deconv_layers.10.bias\n",
      "module.deconv_layers.10.running_mean\n",
      "module.deconv_layers.10.running_var\n",
      "module.deconv_layers.10.num_batches_tracked\n",
      "module.deconv_layers.12.weight\n",
      "module.deconv_layers.12.bias\n",
      "module.deconv_layers.12.conv_offset_mask.weight\n",
      "module.deconv_layers.12.conv_offset_mask.bias\n",
      "module.deconv_layers.13.weight\n",
      "module.deconv_layers.13.bias\n",
      "module.deconv_layers.13.running_mean\n",
      "module.deconv_layers.13.running_var\n",
      "module.deconv_layers.13.num_batches_tracked\n",
      "module.deconv_layers.15.weight\n",
      "module.deconv_layers.16.weight\n",
      "module.deconv_layers.16.bias\n",
      "module.deconv_layers.16.running_mean\n",
      "module.deconv_layers.16.running_var\n",
      "module.deconv_layers.16.num_batches_tracked\n",
      "module.hm.0.weight\n",
      "module.hm.0.bias\n",
      "module.hm.2.weight\n",
      "module.hm.2.bias\n",
      "module.wh.0.weight\n",
      "module.wh.0.bias\n",
      "module.wh.2.weight\n",
      "module.wh.2.bias\n",
      "module.reg.0.weight\n",
      "module.reg.0.bias\n",
      "module.reg.2.weight\n",
      "module.reg.2.bias\n"
     ]
    }
   ],
   "source": [
    "for name in mod1['state_dict']:\n",
    "    print(name)"
   ]
  },
  {
   "cell_type": "markdown",
   "metadata": {},
   "source": [
    "# Loading the Dataset"
   ]
  },
  {
   "cell_type": "code",
   "execution_count": 4,
   "metadata": {},
   "outputs": [],
   "source": [
    "import os\n",
    "import sys\n",
    "sys.path.append(sys.path[0]+'/../lib') # Add library folder\n",
    "#print(sys.path)"
   ]
  },
  {
   "cell_type": "code",
   "execution_count": 5,
   "metadata": {},
   "outputs": [],
   "source": [
    "from opts import opts\n",
    "from datasets.dataset_factory import get_dataset\n",
    "from datasets.dataset.coco import COCO\n",
    "from datasets.sample.ctdet import CTDetDataset\n",
    "from trains.ctdet import CtdetTrainer\n",
    "from trains.train_factory import train_factory"
   ]
  },
  {
   "cell_type": "code",
   "execution_count": 6,
   "metadata": {},
   "outputs": [],
   "source": [
    "Dataset = get_dataset('coco', 'ctdet')"
   ]
  },
  {
   "cell_type": "markdown",
   "metadata": {},
   "source": [
    "# Initializing opt"
   ]
  },
  {
   "cell_type": "code",
   "execution_count": 7,
   "metadata": {},
   "outputs": [],
   "source": [
    "sys.path.append(sys.path[0]+'/../project_tools')\n",
    "from fcn_opts import fcn_opts\n",
    "opt = fcn_opts(Dataset)"
   ]
  },
  {
   "cell_type": "markdown",
   "metadata": {},
   "source": [
    "Create opt for passing to the constructor. \\\n",
    "Also pass a string with the training value"
   ]
  },
  {
   "cell_type": "markdown",
   "metadata": {},
   "source": [
    "## Loading Full Dataset"
   ]
  },
  {
   "cell_type": "code",
   "execution_count": 8,
   "metadata": {},
   "outputs": [
    {
     "name": "stdout",
     "output_type": "stream",
     "text": [
      "==> initializing coco 2017 train data.\n",
      "loading annotations into memory...\n",
      "Done (t=15.14s)\n",
      "creating index...\n",
      "index created!\n",
      "Loaded train 118287 samples\n",
      "==> initializing coco 2017 val data.\n",
      "loading annotations into memory...\n",
      "Done (t=0.65s)\n",
      "creating index...\n",
      "index created!\n",
      "Loaded val 5000 samples\n"
     ]
    }
   ],
   "source": [
    "dataset = Dataset(opt,'train')\n",
    "valset = Dataset(opt, 'val')"
   ]
  },
  {
   "cell_type": "markdown",
   "metadata": {},
   "source": [
    "## Modifying dataset"
   ]
  },
  {
   "cell_type": "markdown",
   "metadata": {},
   "source": [
    "For initial testing we are modifying the dataset to a smaller size. The following code updates the json file list to use a smalller subset of the data. "
   ]
  },
  {
   "cell_type": "code",
   "execution_count": 9,
   "metadata": {},
   "outputs": [
    {
     "name": "stdout",
     "output_type": "stream",
     "text": [
      "118287\n"
     ]
    }
   ],
   "source": [
    "all_Ids=dataset.coco.getImgIds()\n",
    "print(len(all_Ids))\n",
    "import skimage.io as io\n",
    "img_dir='~/MoDL_CenterNet/data/coco/train2017/'"
   ]
  },
  {
   "cell_type": "code",
   "execution_count": 10,
   "metadata": {},
   "outputs": [
    {
     "data": {
      "image/png": "[encoded data removed]",
      "text/plain": [
       "<Figure size 432x288 with 1 Axes>"
      ]
     },
     "metadata": {
      "needs_background": "light"
     },
     "output_type": "display_data"
    }
   ],
   "source": [
    "N=512\n",
    "import random\n",
    "np.random.seed(0)\n",
    "numsets=1\n",
    "for iter in range(numsets):\n",
    "    imgIds_perm=np.random.permutation(len(all_Ids))\n",
    "    tmp=imgIds_perm[0:N].astype(int)\n",
    "    tmp2=[all_Ids[t] for t in tmp]\n",
    "    dataset.images=tmp2\n",
    "    dataset.num_samples=len(dataset.images)\n",
    "    sub_inst_cat=np.zeros(90)\n",
    "    for j in range(N):\n",
    "        sub_cat_lab=[]\n",
    "        img = dataset.coco.loadImgs(dataset.images[j])[0]\n",
    "        f_name=img_dir\n",
    "        f_name+=img['file_name']\n",
    "        annIds = dataset.coco.getAnnIds(imgIds=img['id'])\n",
    "        anns = dataset.coco.loadAnns(annIds)\n",
    "        sub_cat_lab=[k['category_id'] for k in anns]\n",
    "        for jj in range(90):\n",
    "            t=np.where(np.asarray(sub_cat_lab)==jj)\n",
    "            sub_inst_cat[jj-1]+=t[0].shape[0]\n",
    "    prob_sub=(sub_inst_cat+1)/np.sum(sub_inst_cat+1)    \n",
    "    plt.plot(sub_inst_cat/(np.sum(sub_inst_cat)))\n",
    "np.random.seed(2)"
   ]
  },
  {
   "cell_type": "code",
   "execution_count": 11,
   "metadata": {},
   "outputs": [
    {
     "name": "stdout",
     "output_type": "stream",
     "text": [
      "[146757, 65057, 293851, 358438, 65213, 455480, 392887, 251752, 400709, 366501, 510820, 129782, 579568, 370831, 320045, 327529, 517095, 334746, 1902, 436391, 384213, 579760, 565849, 312789, 148792, 431146, 160308, 458205, 69856, 243446, 151277, 242868, 344702, 546031, 372219, 426714, 293159, 119036, 250958, 78016, 384412, 398007, 493355, 508015, 380734, 104309, 127129, 178378, 524723, 470414, 267217, 386542, 123514, 423362, 98612, 119210, 167082, 11788, 523267, 217515, 460809, 336621, 215524, 284144, 288246, 81838, 554934, 404626, 259758, 194108, 483620, 327221, 293070, 61603, 442590, 70256, 500537, 188040, 550529, 409706, 182903, 204805, 461128, 371978, 139634, 493717, 248948, 253656, 211823, 61459, 471064, 388255, 537470, 283849, 222330, 542284, 487236, 218853, 558584, 262101, 138975, 397645, 359760, 312997, 521569, 171585, 121249, 219313, 127028, 196299, 95078, 442901, 342160, 558303, 480807, 552330, 134715, 487349, 237222, 221252, 385744, 433044, 281181, 290578, 438816, 79544, 278967, 392229, 415659, 92219, 259028, 534889, 107607, 201076, 191731, 395344, 104114, 561214, 386700, 387042, 469198, 335090, 314825, 516947, 398622, 121157, 342232, 160104, 531333, 259414, 541314, 59034, 181098, 59949, 521321, 570522, 58099, 77061, 179667, 258516, 234057, 244928, 302160, 404780, 447993, 41132, 380192, 62442, 365309, 233315, 365735, 367357, 252160, 436941, 217156, 574411, 95875, 403915, 147173, 19501, 426996, 436185, 407390, 450592, 258174, 576158, 466656, 296745, 455315, 400134, 536827, 577448, 351930, 448320, 38670, 473919, 486714, 496636, 559113, 152598, 352082, 42757, 128647, 127647, 466513, 566038, 34854, 142726, 27975, 269612, 337951, 372764, 10343, 492886, 441577, 455565, 143737, 552961, 5259, 512307, 507935, 268274, 272783, 146469, 225403, 355438, 378890, 281488, 244870, 271862, 121363, 501039, 371283, 35964, 297066, 127681, 1164, 194908, 259465, 543740, 251785, 408040, 74825, 250706, 66292, 466807, 576398, 575371, 351260, 490508, 340136, 127324, 347495, 64390, 99104, 82259]\n"
     ]
    }
   ],
   "source": [
    "opt.num_iters = dataset.num_samples/opt.batch_size\n",
    "print(dataset.images)"
   ]
  },
  {
   "cell_type": "markdown",
   "metadata": {},
   "source": [
    "## Dataloader"
   ]
  },
  {
   "cell_type": "code",
   "execution_count": 11,
   "metadata": {},
   "outputs": [],
   "source": [
    "train_loader = td.DataLoader(\n",
    "      dataset, \n",
    "      batch_size=opt.batch_size, \n",
    "      shuffle=True,\n",
    "      num_workers=opt.num_workers,\n",
    "      pin_memory=True,\n",
    "      drop_last=True\n",
    "  )"
   ]
  },
  {
   "cell_type": "code",
   "execution_count": 12,
   "metadata": {},
   "outputs": [],
   "source": [
    "val_loader = torch.utils.data.DataLoader(\n",
    "      valset, \n",
    "      batch_size=1, \n",
    "      shuffle=False,\n",
    "      num_workers=1,\n",
    "      pin_memory=True\n",
    "  )"
   ]
  },
  {
   "cell_type": "markdown",
   "metadata": {},
   "source": [
    "# Model"
   ]
  },
  {
   "cell_type": "code",
   "execution_count": 13,
   "metadata": {},
   "outputs": [],
   "source": [
    "sys.path.append(sys.path[0]+'/../lib/models/networks/DCNv2')\n",
    "from models.model import create_model, load_model, save_model\n",
    "from trains.ctdet import CtdetTrainer"
   ]
  },
  {
   "cell_type": "code",
   "execution_count": 14,
   "metadata": {},
   "outputs": [
    {
     "name": "stderr",
     "output_type": "stream",
     "text": [
      "Downloading: \"https://download.pytorch.org/models/resnet18-5c106cde.pth\" to /tmp/xdg-cache/torch/checkpoints/resnet18-5c106cde.pth\n",
      "100%|██████████| 44.7M/44.7M [00:01<00:00, 26.3MB/s]\n"
     ]
    },
    {
     "name": "stdout",
     "output_type": "stream",
     "text": [
      "=> loading pretrained model https://download.pytorch.org/models/resnet18-5c106cde.pth\n"
     ]
    }
   ],
   "source": [
    "# regression on center point.\n",
    "model = create_model(opt.arch, opt.heads, opt.head_conv)"
   ]
  },
  {
   "cell_type": "code",
   "execution_count": 15,
   "metadata": {},
   "outputs": [],
   "source": [
    "optimizer = torch.optim.Adam(model.parameters(), opt.lr)"
   ]
  },
  {
   "cell_type": "markdown",
   "metadata": {},
   "source": [
    "# Trainer"
   ]
  },
  {
   "cell_type": "code",
   "execution_count": null,
   "metadata": {},
   "outputs": [],
   "source": [
    "trainer = CtdetTrainer(opt, model, optimizer)\n",
    "trainer.set_device(opt.gpus, opt.chunk_sizes, opt.device)"
   ]
  },
  {
   "cell_type": "markdown",
   "metadata": {},
   "source": [
    "# Running main training loop"
   ]
  },
  {
   "cell_type": "code",
   "execution_count": null,
   "metadata": {},
   "outputs": [],
   "source": [
    "## Test for Using their train function from Ctdetrainer\n",
    "# print('Starting training...')\n",
    "# best = 1e10\n",
    "# for epoch in range(start_epoch + 1, opt.num_epochs + 1):\n",
    "#     log_dict_train, _ = trainer.train(epoch, train_loader)\n",
    "    "
   ]
  },
  {
   "cell_type": "code",
   "execution_count": 16,
   "metadata": {},
   "outputs": [],
   "source": [
    "sys.path.append(sys.path[0]+\"/../project_tools\")\n",
    "import nntools as nt"
   ]
  },
  {
   "cell_type": "code",
   "execution_count": 17,
   "metadata": {},
   "outputs": [],
   "source": [
    "class Centernet_model(nt.NeuralNetwork,CtdetTrainer):\n",
    "    def __init__(self,opt,model,optimizer=None,FineTune=True):\n",
    "        nt.NeuralNetwork.__init__(self)\n",
    "        CtdetTrainer.__init__(self,opt,model,optimizer=None)\n",
    "        if FineTune:\n",
    "            for name,param in model.named_parameters():\n",
    "               if name[0:2]=='hm' or name[0:2]=='re' or name[0:2]=='wh':\n",
    "                    pass\n",
    "               else: \n",
    "                    param.requires_grad=False\n",
    "            #print(name,param.requires_grad)\n",
    "        self.model=model\n",
    "        self.opt=opt\n",
    "    def forward(self,x):\n",
    "        return self.model(x)\n",
    "    def criterion(self, y, d):\n",
    "        return self.loss(y,d)"
   ]
  },
  {
   "cell_type": "code",
   "execution_count": 18,
   "metadata": {},
   "outputs": [],
   "source": [
    "def myimshow(image, ax=plt):\n",
    "    image = image.to('cpu').numpy()\n",
    "    image = np.moveaxis(image, [0, 1, 2], [2, 0, 1])\n",
    "    image = (image + 1) / 2\n",
    "    image[image < 0] = 0\n",
    "    image[image > 1] = 1\n",
    "    #image=np.int(((image-np.min(image))/(np.max(image)-np.min(image)))*255)\n",
    "    #print(image.shape)\n",
    "    h = ax.imshow(image)\n",
    "    ax.axis('off')\n",
    "    return h"
   ]
  },
  {
   "cell_type": "code",
   "execution_count": 19,
   "metadata": {},
   "outputs": [
    {
     "name": "stdout",
     "output_type": "stream",
     "text": [
      "loaded /datasets/home/home-01/30/230/psarangi/MoDL_CenterNet/src/local_notebooks/../../models/ctdet_coco_resdcn18.pth, epoch 140\n",
      "Skip loading parameter deconv_layers.0.weight, required shapetorch.Size([512, 256, 4, 4]), loaded shapetorch.Size([256, 512, 3, 3]). If you see this, your model does not fully load the pre-trained weight. Please make sure you have correctly specified --arch xxx or set the correct --num_classes for your own dataset.\n",
      "Drop parameter deconv_layers.0.bias.If you see this, your model does not fully load the pre-trained weight. Please make sure you have correctly specified --arch xxx or set the correct --num_classes for your own dataset.\n",
      "Drop parameter deconv_layers.0.conv_offset_mask.weight.If you see this, your model does not fully load the pre-trained weight. Please make sure you have correctly specified --arch xxx or set the correct --num_classes for your own dataset.\n",
      "Drop parameter deconv_layers.0.conv_offset_mask.bias.If you see this, your model does not fully load the pre-trained weight. Please make sure you have correctly specified --arch xxx or set the correct --num_classes for your own dataset.\n",
      "Skip loading parameter deconv_layers.6.weight, required shapetorch.Size([256, 256, 4, 4]), loaded shapetorch.Size([128, 256, 3, 3]). If you see this, your model does not fully load the pre-trained weight. Please make sure you have correctly specified --arch xxx or set the correct --num_classes for your own dataset.\n",
      "Drop parameter deconv_layers.6.bias.If you see this, your model does not fully load the pre-trained weight. Please make sure you have correctly specified --arch xxx or set the correct --num_classes for your own dataset.\n",
      "Drop parameter deconv_layers.6.conv_offset_mask.weight.If you see this, your model does not fully load the pre-trained weight. Please make sure you have correctly specified --arch xxx or set the correct --num_classes for your own dataset.\n",
      "Drop parameter deconv_layers.6.conv_offset_mask.bias.If you see this, your model does not fully load the pre-trained weight. Please make sure you have correctly specified --arch xxx or set the correct --num_classes for your own dataset.\n",
      "Skip loading parameter deconv_layers.7.weight, required shapetorch.Size([256]), loaded shapetorch.Size([128]). If you see this, your model does not fully load the pre-trained weight. Please make sure you have correctly specified --arch xxx or set the correct --num_classes for your own dataset.\n",
      "Skip loading parameter deconv_layers.7.bias, required shapetorch.Size([256]), loaded shapetorch.Size([128]). If you see this, your model does not fully load the pre-trained weight. Please make sure you have correctly specified --arch xxx or set the correct --num_classes for your own dataset.\n",
      "Skip loading parameter deconv_layers.7.running_mean, required shapetorch.Size([256]), loaded shapetorch.Size([128]). If you see this, your model does not fully load the pre-trained weight. Please make sure you have correctly specified --arch xxx or set the correct --num_classes for your own dataset.\n",
      "Skip loading parameter deconv_layers.7.running_var, required shapetorch.Size([256]), loaded shapetorch.Size([128]). If you see this, your model does not fully load the pre-trained weight. Please make sure you have correctly specified --arch xxx or set the correct --num_classes for your own dataset.\n",
      "Drop parameter deconv_layers.9.weight.If you see this, your model does not fully load the pre-trained weight. Please make sure you have correctly specified --arch xxx or set the correct --num_classes for your own dataset.\n",
      "Drop parameter deconv_layers.10.weight.If you see this, your model does not fully load the pre-trained weight. Please make sure you have correctly specified --arch xxx or set the correct --num_classes for your own dataset.\n",
      "Drop parameter deconv_layers.10.bias.If you see this, your model does not fully load the pre-trained weight. Please make sure you have correctly specified --arch xxx or set the correct --num_classes for your own dataset.\n",
      "Drop parameter deconv_layers.10.running_mean.If you see this, your model does not fully load the pre-trained weight. Please make sure you have correctly specified --arch xxx or set the correct --num_classes for your own dataset.\n",
      "Drop parameter deconv_layers.10.running_var.If you see this, your model does not fully load the pre-trained weight. Please make sure you have correctly specified --arch xxx or set the correct --num_classes for your own dataset.\n",
      "Drop parameter deconv_layers.10.num_batches_tracked.If you see this, your model does not fully load the pre-trained weight. Please make sure you have correctly specified --arch xxx or set the correct --num_classes for your own dataset.\n",
      "Drop parameter deconv_layers.12.weight.If you see this, your model does not fully load the pre-trained weight. Please make sure you have correctly specified --arch xxx or set the correct --num_classes for your own dataset.\n",
      "Drop parameter deconv_layers.12.bias.If you see this, your model does not fully load the pre-trained weight. Please make sure you have correctly specified --arch xxx or set the correct --num_classes for your own dataset.\n",
      "Drop parameter deconv_layers.12.conv_offset_mask.weight.If you see this, your model does not fully load the pre-trained weight. Please make sure you have correctly specified --arch xxx or set the correct --num_classes for your own dataset.\n",
      "Drop parameter deconv_layers.12.conv_offset_mask.bias.If you see this, your model does not fully load the pre-trained weight. Please make sure you have correctly specified --arch xxx or set the correct --num_classes for your own dataset.\n",
      "Drop parameter deconv_layers.13.weight.If you see this, your model does not fully load the pre-trained weight. Please make sure you have correctly specified --arch xxx or set the correct --num_classes for your own dataset.\n",
      "Drop parameter deconv_layers.13.bias.If you see this, your model does not fully load the pre-trained weight. Please make sure you have correctly specified --arch xxx or set the correct --num_classes for your own dataset.\n",
      "Drop parameter deconv_layers.13.running_mean.If you see this, your model does not fully load the pre-trained weight. Please make sure you have correctly specified --arch xxx or set the correct --num_classes for your own dataset.\n",
      "Drop parameter deconv_layers.13.running_var.If you see this, your model does not fully load the pre-trained weight. Please make sure you have correctly specified --arch xxx or set the correct --num_classes for your own dataset.\n",
      "Drop parameter deconv_layers.13.num_batches_tracked.If you see this, your model does not fully load the pre-trained weight. Please make sure you have correctly specified --arch xxx or set the correct --num_classes for your own dataset.\n",
      "Drop parameter deconv_layers.15.weight.If you see this, your model does not fully load the pre-trained weight. Please make sure you have correctly specified --arch xxx or set the correct --num_classes for your own dataset.\n",
      "Drop parameter deconv_layers.16.weight.If you see this, your model does not fully load the pre-trained weight. Please make sure you have correctly specified --arch xxx or set the correct --num_classes for your own dataset.\n",
      "Drop parameter deconv_layers.16.bias.If you see this, your model does not fully load the pre-trained weight. Please make sure you have correctly specified --arch xxx or set the correct --num_classes for your own dataset.\n",
      "Drop parameter deconv_layers.16.running_mean.If you see this, your model does not fully load the pre-trained weight. Please make sure you have correctly specified --arch xxx or set the correct --num_classes for your own dataset.\n",
      "Drop parameter deconv_layers.16.running_var.If you see this, your model does not fully load the pre-trained weight. Please make sure you have correctly specified --arch xxx or set the correct --num_classes for your own dataset.\n",
      "Drop parameter deconv_layers.16.num_batches_tracked.If you see this, your model does not fully load the pre-trained weight. Please make sure you have correctly specified --arch xxx or set the correct --num_classes for your own dataset.\n",
      "Skip loading parameter hm.0.weight, required shapetorch.Size([64, 256, 3, 3]), loaded shapetorch.Size([64, 64, 3, 3]). If you see this, your model does not fully load the pre-trained weight. Please make sure you have correctly specified --arch xxx or set the correct --num_classes for your own dataset.\n",
      "Skip loading parameter wh.0.weight, required shapetorch.Size([64, 256, 3, 3]), loaded shapetorch.Size([64, 64, 3, 3]). If you see this, your model does not fully load the pre-trained weight. Please make sure you have correctly specified --arch xxx or set the correct --num_classes for your own dataset.\n",
      "Skip loading parameter reg.0.weight, required shapetorch.Size([64, 256, 3, 3]), loaded shapetorch.Size([64, 64, 3, 3]). If you see this, your model does not fully load the pre-trained weight. Please make sure you have correctly specified --arch xxx or set the correct --num_classes for your own dataset.\n"
     ]
    },
    {
     "name": "stdout",
     "output_type": "stream",
     "text": [
      "<torch.utils.data.dataloader.DataLoader object at 0x7fabb246f6a0>\n"
     ]
    }
   ],
   "source": [
    "model1 =load_model(model,sys.path[0]+'/../../models/ctdet_coco_resdcn18.pth')\n",
    "net = Centernet_model(opt,model1)\n",
    "net = net.to(opt.device)\n",
    "print(train_loader)\n",
    "train_loader = td.DataLoader(\n",
    "      dataset, \n",
    "      batch_size=opt.batch_size, \n",
    "      shuffle=True,\n",
    "      num_workers=opt.num_workers,\n",
    "      pin_memory=True,\n",
    "      drop_last=True\n",
    "  )"
   ]
  },
  {
   "cell_type": "markdown",
   "metadata": {},
   "source": [
    "## Data Augmentation"
   ]
  },
  {
   "cell_type": "code",
   "execution_count": null,
   "metadata": {},
   "outputs": [],
   "source": [
    "import cv2\n",
    "import skimage.io as io\n",
    "for idx,batch in enumerate(train_loader):\n",
    "    print(idx)\n",
    "    x1=batch['input']\n",
    "    img = dataset.coco.loadImgs(dataset.images[0])[0]\n",
    "    f_name=img_dir\n",
    "    f_name+=img['file_name']\n",
    "    I = io.imread(f_name)\n",
    "    plt.figure()\n",
    "    plt.imshow(I)\n",
    "    plt.show()\n",
    "    #x = np.moveaxis(x, [0, 1, 2], [2, 0, 1])\n",
    "    #     plt.figure()\n",
    "    #     plt.imshow(x)\n",
    "    #     plt.show()\n",
    "    myimshow(x1[0,:,:,:])\n",
    "    print(x1[0,:,:,:].shape,I.shape)"
   ]
  },
  {
   "cell_type": "code",
   "execution_count": null,
   "metadata": {},
   "outputs": [],
   "source": [
    "torch.equal(x,x1)\n",
    "print()"
   ]
  },
  {
   "cell_type": "code",
   "execution_count": null,
   "metadata": {},
   "outputs": [],
   "source": [
    "import cv2\n",
    "import skimage.io as io\n",
    "for idx,batch in enumerate(train_loader):\n",
    "    x=batch['input']\n",
    "    img = dataset.coco.loadImgs(dataset.images[0])[0]\n",
    "    f_name=img_dir\n",
    "    f_name+=img['file_name']\n",
    "    I = io.imread(f_name)\n",
    "    plt.figure()\n",
    "    plt.imshow(I)\n",
    "    plt.show()\n",
    "    #x = np.moveaxis(x, [0, 1, 2], [2, 0, 1])\n",
    "    #     plt.figure()\n",
    "    #     plt.imshow(x)\n",
    "    #     plt.show()\n",
    "    myimshow(x[0,:,:,:])\n",
    "    print(x[0,:,:,:].shape,I.shape)"
   ]
  },
  {
   "cell_type": "markdown",
   "metadata": {},
   "source": [
    "## Manual Batch Loss computation"
   ]
  },
  {
   "cell_type": "code",
   "execution_count": null,
   "metadata": {},
   "outputs": [],
   "source": [
    "for idx,batch in enumerate(train_loader):\n",
    "    #print(idx)\n",
    "    for k in batch:\n",
    "        if k != 'meta':\n",
    "            batch[k] = batch[k].to(device=opt.device, non_blocking=True) \n",
    "    y=net.model(batch['input'])\n",
    "    #y=net.model(batch['input'])\n",
    "    #batch = batch.to(net.device)\n",
    "    #y,_,_=net.model_with_loss(batch)\n",
    "    #print(idx)\n",
    "    loss1,_ = net.loss(y,batch)"
   ]
  },
  {
   "cell_type": "code",
   "execution_count": null,
   "metadata": {},
   "outputs": [],
   "source": [
    "print(loss1.mean())"
   ]
  },
  {
   "cell_type": "code",
   "execution_count": 21,
   "metadata": {},
   "outputs": [
    {
     "name": "stdout",
     "output_type": "stream",
     "text": [
      "conv1.weight False\n",
      "bn1.weight False\n",
      "bn1.bias False\n",
      "layer1.0.conv1.weight False\n",
      "layer1.0.bn1.weight False\n",
      "layer1.0.bn1.bias False\n",
      "layer1.0.conv2.weight False\n",
      "layer1.0.bn2.weight False\n",
      "layer1.0.bn2.bias False\n",
      "layer1.1.conv1.weight False\n",
      "layer1.1.bn1.weight False\n",
      "layer1.1.bn1.bias False\n",
      "layer1.1.conv2.weight False\n",
      "layer1.1.bn2.weight False\n",
      "layer1.1.bn2.bias False\n",
      "layer2.0.conv1.weight False\n",
      "layer2.0.bn1.weight False\n",
      "layer2.0.bn1.bias False\n",
      "layer2.0.conv2.weight False\n",
      "layer2.0.bn2.weight False\n",
      "layer2.0.bn2.bias False\n",
      "layer2.0.downsample.0.weight False\n",
      "layer2.0.downsample.1.weight False\n",
      "layer2.0.downsample.1.bias False\n",
      "layer2.1.conv1.weight False\n",
      "layer2.1.bn1.weight False\n",
      "layer2.1.bn1.bias False\n",
      "layer2.1.conv2.weight False\n",
      "layer2.1.bn2.weight False\n",
      "layer2.1.bn2.bias False\n",
      "layer3.0.conv1.weight False\n",
      "layer3.0.bn1.weight False\n",
      "layer3.0.bn1.bias False\n",
      "layer3.0.conv2.weight False\n",
      "layer3.0.bn2.weight False\n",
      "layer3.0.bn2.bias False\n",
      "layer3.0.downsample.0.weight False\n",
      "layer3.0.downsample.1.weight False\n",
      "layer3.0.downsample.1.bias False\n",
      "layer3.1.conv1.weight False\n",
      "layer3.1.bn1.weight False\n",
      "layer3.1.bn1.bias False\n",
      "layer3.1.conv2.weight False\n",
      "layer3.1.bn2.weight False\n",
      "layer3.1.bn2.bias False\n",
      "layer4.0.conv1.weight False\n",
      "layer4.0.bn1.weight False\n",
      "layer4.0.bn1.bias False\n",
      "layer4.0.conv2.weight False\n",
      "layer4.0.bn2.weight False\n",
      "layer4.0.bn2.bias False\n",
      "layer4.0.downsample.0.weight False\n",
      "layer4.0.downsample.1.weight False\n",
      "layer4.0.downsample.1.bias False\n",
      "layer4.1.conv1.weight False\n",
      "layer4.1.bn1.weight False\n",
      "layer4.1.bn1.bias False\n",
      "layer4.1.conv2.weight False\n",
      "layer4.1.bn2.weight False\n",
      "layer4.1.bn2.bias False\n",
      "deconv_layers.0.weight False\n",
      "deconv_layers.1.weight False\n",
      "deconv_layers.1.bias False\n",
      "deconv_layers.3.weight False\n",
      "deconv_layers.4.weight False\n",
      "deconv_layers.4.bias False\n",
      "deconv_layers.6.weight False\n",
      "deconv_layers.7.weight False\n",
      "deconv_layers.7.bias False\n",
      "hm.0.weight True\n",
      "hm.0.bias True\n",
      "hm.2.weight True\n",
      "hm.2.bias True\n",
      "reg.0.weight True\n",
      "reg.0.bias True\n",
      "reg.2.weight True\n",
      "reg.2.bias True\n",
      "wh.0.weight True\n",
      "wh.0.bias True\n",
      "wh.2.weight True\n",
      "wh.2.bias True\n"
     ]
    }
   ],
   "source": [
    "for name,param in net.model.named_parameters():\n",
    "    print(name,param.requires_grad)"
   ]
  },
  {
   "cell_type": "markdown",
   "metadata": {},
   "source": [
    "## Experiment with custom function run2"
   ]
  },
  {
   "cell_type": "code",
   "execution_count": 20,
   "metadata": {},
   "outputs": [],
   "source": [
    "adam = torch.optim.Adam(net.parameters(), lr=opt.lr)\n",
    "stats_manager = nt.StatsManager()\n",
    "exp2 = nt.Experiment(net,dataset,valset,adam,stats_manager,\n",
    "output_dir=\"olalalaeo4\", batch_size=opt.batch_size,perform_validation_during_training=False)"
   ]
  },
  {
   "cell_type": "code",
   "execution_count": null,
   "metadata": {},
   "outputs": [
    {
     "name": "stdout",
     "output_type": "stream",
     "text": [
      "Start/Continue training from epoch 0\n"
     ]
    },
    {
     "name": "stderr",
     "output_type": "stream",
     "text": [
      "/opt/conda/lib/python3.7/site-packages/torch/nn/_reduction.py:43: UserWarning: size_average and reduce args will be deprecated, please use reduction='sum' instead.\n",
      "  warnings.warn(warning.format(ret))\n"
     ]
    },
    {
     "name": "stdout",
     "output_type": "stream",
     "text": [
      "Epoch 1 (Time: 32.50s)\n",
      "Epoch 2 (Time: 29.38s)\n",
      "Epoch 3 (Time: 29.55s)\n",
      "Epoch 4 (Time: 28.25s)\n"
     ]
    }
   ],
   "source": [
    "exp2.run2(num_epochs=5)"
   ]
  },
  {
   "cell_type": "code",
   "execution_count": 27,
   "metadata": {},
   "outputs": [
    {
     "data": {
      "image/png": "[encoded data removed]",
      "text/plain": [
       "<Figure size 432x288 with 1 Axes>"
      ]
     },
     "metadata": {
      "needs_background": "light"
     },
     "output_type": "display_data"
    }
   ],
   "source": [
    "plt.plot(exp2.history)\n",
    "plt.show()"
   ]
  },
  {
   "cell_type": "code",
   "execution_count": null,
   "metadata": {},
   "outputs": [],
   "source": []
  }
 ],
 "metadata": {
  "kernelspec": {
   "display_name": "Python 3",
   "language": "python",
   "name": "python3"
  },
  "language_info": {
   "codemirror_mode": {
    "name": "ipython",
    "version": 3
   },
   "file_extension": ".py",
   "mimetype": "text/x-python",
   "name": "python",
   "nbconvert_exporter": "python",
   "pygments_lexer": "ipython3",
   "version": "3.7.3"
  }
 },
 "nbformat": 4,
 "nbformat_minor": 2
}
