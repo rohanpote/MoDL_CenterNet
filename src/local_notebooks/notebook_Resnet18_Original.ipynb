{
 "cells": [
  {
   "cell_type": "markdown",
   "metadata": {},
   "source": [
    "# Basic Model Testing"
   ]
  },
  {
   "cell_type": "code",
   "execution_count": 1,
   "metadata": {},
   "outputs": [],
   "source": [
    "import os\n",
    "import numpy as np \n",
    "import torch\n",
    "from torch import nn\n",
    "from torch.nn import functional as F \n",
    "import torch.utils.data as td\n",
    "import torchvision as tv\n",
    "import pandas as pd\n",
    "from PIL import Image\n",
    "from matplotlib import pyplot as plt\n",
    "import sys"
   ]
  },
  {
   "cell_type": "code",
   "execution_count": 2,
   "metadata": {},
   "outputs": [],
   "source": [
    "mod1 = torch.load(sys.path[0]+'/../../models/ctdet_coco_resdcn18.pth')"
   ]
  },
  {
   "cell_type": "code",
   "execution_count": 3,
   "metadata": {},
   "outputs": [
    {
     "name": "stdout",
     "output_type": "stream",
     "text": [
      "module.conv1.weight\n",
      "module.bn1.weight\n",
      "module.bn1.bias\n",
      "module.bn1.running_mean\n",
      "module.bn1.running_var\n",
      "module.bn1.num_batches_tracked\n",
      "module.layer1.0.conv1.weight\n",
      "module.layer1.0.bn1.weight\n",
      "module.layer1.0.bn1.bias\n",
      "module.layer1.0.bn1.running_mean\n",
      "module.layer1.0.bn1.running_var\n",
      "module.layer1.0.bn1.num_batches_tracked\n",
      "module.layer1.0.conv2.weight\n",
      "module.layer1.0.bn2.weight\n",
      "module.layer1.0.bn2.bias\n",
      "module.layer1.0.bn2.running_mean\n",
      "module.layer1.0.bn2.running_var\n",
      "module.layer1.0.bn2.num_batches_tracked\n",
      "module.layer1.1.conv1.weight\n",
      "module.layer1.1.bn1.weight\n",
      "module.layer1.1.bn1.bias\n",
      "module.layer1.1.bn1.running_mean\n",
      "module.layer1.1.bn1.running_var\n",
      "module.layer1.1.bn1.num_batches_tracked\n",
      "module.layer1.1.conv2.weight\n",
      "module.layer1.1.bn2.weight\n",
      "module.layer1.1.bn2.bias\n",
      "module.layer1.1.bn2.running_mean\n",
      "module.layer1.1.bn2.running_var\n",
      "module.layer1.1.bn2.num_batches_tracked\n",
      "module.layer2.0.conv1.weight\n",
      "module.layer2.0.bn1.weight\n",
      "module.layer2.0.bn1.bias\n",
      "module.layer2.0.bn1.running_mean\n",
      "module.layer2.0.bn1.running_var\n",
      "module.layer2.0.bn1.num_batches_tracked\n",
      "module.layer2.0.conv2.weight\n",
      "module.layer2.0.bn2.weight\n",
      "module.layer2.0.bn2.bias\n",
      "module.layer2.0.bn2.running_mean\n",
      "module.layer2.0.bn2.running_var\n",
      "module.layer2.0.bn2.num_batches_tracked\n",
      "module.layer2.0.downsample.0.weight\n",
      "module.layer2.0.downsample.1.weight\n",
      "module.layer2.0.downsample.1.bias\n",
      "module.layer2.0.downsample.1.running_mean\n",
      "module.layer2.0.downsample.1.running_var\n",
      "module.layer2.0.downsample.1.num_batches_tracked\n",
      "module.layer2.1.conv1.weight\n",
      "module.layer2.1.bn1.weight\n",
      "module.layer2.1.bn1.bias\n",
      "module.layer2.1.bn1.running_mean\n",
      "module.layer2.1.bn1.running_var\n",
      "module.layer2.1.bn1.num_batches_tracked\n",
      "module.layer2.1.conv2.weight\n",
      "module.layer2.1.bn2.weight\n",
      "module.layer2.1.bn2.bias\n",
      "module.layer2.1.bn2.running_mean\n",
      "module.layer2.1.bn2.running_var\n",
      "module.layer2.1.bn2.num_batches_tracked\n",
      "module.layer3.0.conv1.weight\n",
      "module.layer3.0.bn1.weight\n",
      "module.layer3.0.bn1.bias\n",
      "module.layer3.0.bn1.running_mean\n",
      "module.layer3.0.bn1.running_var\n",
      "module.layer3.0.bn1.num_batches_tracked\n",
      "module.layer3.0.conv2.weight\n",
      "module.layer3.0.bn2.weight\n",
      "module.layer3.0.bn2.bias\n",
      "module.layer3.0.bn2.running_mean\n",
      "module.layer3.0.bn2.running_var\n",
      "module.layer3.0.bn2.num_batches_tracked\n",
      "module.layer3.0.downsample.0.weight\n",
      "module.layer3.0.downsample.1.weight\n",
      "module.layer3.0.downsample.1.bias\n",
      "module.layer3.0.downsample.1.running_mean\n",
      "module.layer3.0.downsample.1.running_var\n",
      "module.layer3.0.downsample.1.num_batches_tracked\n",
      "module.layer3.1.conv1.weight\n",
      "module.layer3.1.bn1.weight\n",
      "module.layer3.1.bn1.bias\n",
      "module.layer3.1.bn1.running_mean\n",
      "module.layer3.1.bn1.running_var\n",
      "module.layer3.1.bn1.num_batches_tracked\n",
      "module.layer3.1.conv2.weight\n",
      "module.layer3.1.bn2.weight\n",
      "module.layer3.1.bn2.bias\n",
      "module.layer3.1.bn2.running_mean\n",
      "module.layer3.1.bn2.running_var\n",
      "module.layer3.1.bn2.num_batches_tracked\n",
      "module.layer4.0.conv1.weight\n",
      "module.layer4.0.bn1.weight\n",
      "module.layer4.0.bn1.bias\n",
      "module.layer4.0.bn1.running_mean\n",
      "module.layer4.0.bn1.running_var\n",
      "module.layer4.0.bn1.num_batches_tracked\n",
      "module.layer4.0.conv2.weight\n",
      "module.layer4.0.bn2.weight\n",
      "module.layer4.0.bn2.bias\n",
      "module.layer4.0.bn2.running_mean\n",
      "module.layer4.0.bn2.running_var\n",
      "module.layer4.0.bn2.num_batches_tracked\n",
      "module.layer4.0.downsample.0.weight\n",
      "module.layer4.0.downsample.1.weight\n",
      "module.layer4.0.downsample.1.bias\n",
      "module.layer4.0.downsample.1.running_mean\n",
      "module.layer4.0.downsample.1.running_var\n",
      "module.layer4.0.downsample.1.num_batches_tracked\n",
      "module.layer4.1.conv1.weight\n",
      "module.layer4.1.bn1.weight\n",
      "module.layer4.1.bn1.bias\n",
      "module.layer4.1.bn1.running_mean\n",
      "module.layer4.1.bn1.running_var\n",
      "module.layer4.1.bn1.num_batches_tracked\n",
      "module.layer4.1.conv2.weight\n",
      "module.layer4.1.bn2.weight\n",
      "module.layer4.1.bn2.bias\n",
      "module.layer4.1.bn2.running_mean\n",
      "module.layer4.1.bn2.running_var\n",
      "module.layer4.1.bn2.num_batches_tracked\n",
      "module.deconv_layers.0.weight\n",
      "module.deconv_layers.0.bias\n",
      "module.deconv_layers.0.conv_offset_mask.weight\n",
      "module.deconv_layers.0.conv_offset_mask.bias\n",
      "module.deconv_layers.1.weight\n",
      "module.deconv_layers.1.bias\n",
      "module.deconv_layers.1.running_mean\n",
      "module.deconv_layers.1.running_var\n",
      "module.deconv_layers.1.num_batches_tracked\n",
      "module.deconv_layers.3.weight\n",
      "module.deconv_layers.4.weight\n",
      "module.deconv_layers.4.bias\n",
      "module.deconv_layers.4.running_mean\n",
      "module.deconv_layers.4.running_var\n",
      "module.deconv_layers.4.num_batches_tracked\n",
      "module.deconv_layers.6.weight\n",
      "module.deconv_layers.6.bias\n",
      "module.deconv_layers.6.conv_offset_mask.weight\n",
      "module.deconv_layers.6.conv_offset_mask.bias\n",
      "module.deconv_layers.7.weight\n",
      "module.deconv_layers.7.bias\n",
      "module.deconv_layers.7.running_mean\n",
      "module.deconv_layers.7.running_var\n",
      "module.deconv_layers.7.num_batches_tracked\n",
      "module.deconv_layers.9.weight\n",
      "module.deconv_layers.10.weight\n",
      "module.deconv_layers.10.bias\n",
      "module.deconv_layers.10.running_mean\n",
      "module.deconv_layers.10.running_var\n",
      "module.deconv_layers.10.num_batches_tracked\n",
      "module.deconv_layers.12.weight\n",
      "module.deconv_layers.12.bias\n",
      "module.deconv_layers.12.conv_offset_mask.weight\n",
      "module.deconv_layers.12.conv_offset_mask.bias\n",
      "module.deconv_layers.13.weight\n",
      "module.deconv_layers.13.bias\n",
      "module.deconv_layers.13.running_mean\n",
      "module.deconv_layers.13.running_var\n",
      "module.deconv_layers.13.num_batches_tracked\n",
      "module.deconv_layers.15.weight\n",
      "module.deconv_layers.16.weight\n",
      "module.deconv_layers.16.bias\n",
      "module.deconv_layers.16.running_mean\n",
      "module.deconv_layers.16.running_var\n",
      "module.deconv_layers.16.num_batches_tracked\n",
      "module.hm.0.weight\n",
      "module.hm.0.bias\n",
      "module.hm.2.weight\n",
      "module.hm.2.bias\n",
      "module.wh.0.weight\n",
      "module.wh.0.bias\n",
      "module.wh.2.weight\n",
      "module.wh.2.bias\n",
      "module.reg.0.weight\n",
      "module.reg.0.bias\n",
      "module.reg.2.weight\n",
      "module.reg.2.bias\n"
     ]
    }
   ],
   "source": [
    "for name in mod1['state_dict']:\n",
    "    print(name)"
   ]
  },
  {
   "cell_type": "markdown",
   "metadata": {},
   "source": [
    "# Loading the Dataset"
   ]
  },
  {
   "cell_type": "code",
   "execution_count": 4,
   "metadata": {},
   "outputs": [],
   "source": [
    "import os\n",
    "import sys\n",
    "sys.path.append(sys.path[0]+'/../lib') # Add library folder\n",
    "#print(sys.path)"
   ]
  },
  {
   "cell_type": "code",
   "execution_count": 5,
   "metadata": {},
   "outputs": [],
   "source": [
    "from opts import opts\n",
    "from datasets.dataset_factory import get_dataset\n",
    "from datasets.dataset.coco import COCO\n",
    "from datasets.sample.ctdet import CTDetDataset\n",
    "from trains.ctdet import CtdetTrainer\n",
    "from trains.train_factory import train_factory"
   ]
  },
  {
   "cell_type": "code",
   "execution_count": 6,
   "metadata": {},
   "outputs": [],
   "source": [
    "Dataset = get_dataset('coco', 'ctdet')"
   ]
  },
  {
   "cell_type": "markdown",
   "metadata": {},
   "source": [
    "# Initializing opt"
   ]
  },
  {
   "cell_type": "markdown",
   "metadata": {},
   "source": [
    "Create opt for passing to the constructor. \\\n",
    "Also pass a string with the training value"
   ]
  },
  {
   "cell_type": "code",
   "execution_count": 7,
   "metadata": {},
   "outputs": [],
   "source": [
    "opt = type('', (), {})()\n",
    "opt.data_dir = sys.path[0]+'/../../data/'\n",
    "opt.task = 'ctdet'\n",
    "split = 'train'"
   ]
  },
  {
   "cell_type": "code",
   "execution_count": 8,
   "metadata": {},
   "outputs": [
    {
     "name": "stdout",
     "output_type": "stream",
     "text": [
      "cuda\n"
     ]
    }
   ],
   "source": [
    "opt.num_workers = 4 # Number of dataloader threads (Default: 4)\n",
    "opt.not_cuda_benchmark = True\n",
    "opt.seed = 317\n",
    "opt.batch_size = 1\n",
    "opt.lr = 1.25e-4 # default=1.25e-4\n",
    "opt.num_classes = Dataset.num_classes\n",
    "opt.cat_spec_wh = False\n",
    "opt.arch = 'res_18' # Default: dla_34\n",
    "opt.head_conv = 64 # '64 for resnets and 256 for dla.'\n",
    "opt.mse_loss = True\n",
    "opt.dense_wh = True # apply weighted regression near center or just apply \n",
    "\n",
    "opt.gpus = [0];\n",
    "device = 'cuda' if torch.cuda.is_available() else 'cpu'\n",
    "opt.device = device\n",
    "\n",
    "print(opt.device)\n",
    "\n",
    "start_epoch = 0\n",
    "opt.num_epochs = 1\n",
    "opt.exp_id = 'exp0' # default: 'default'\n",
    "opt.hide_data_time = True\n",
    "opt.print_iter = 1\n",
    "opt.debug = 0 # Default 0\n",
    "opt.test = False\n",
    "opt.keep_res = False\n",
    "\n",
    "opt.lr_step = '90,120'\n",
    "opt.lr_step = [int(i) for i in opt.lr_step.split(',')]\n",
    "opt.test_scales = '1'\n",
    "opt.test_scales = [float(i) for i in opt.test_scales.split(',')]\n",
    "\n",
    "opt.not_reg_offset = False\n",
    "opt.reg_offset = not opt.not_reg_offset\n",
    "\n",
    "opt.fix_res = not opt.keep_res\n",
    "\n",
    "opt.head_conv = -1\n",
    "if opt.head_conv == -1: # init default head_conv\n",
    "    opt.head_conv = 256 if 'dla' in opt.arch else 64\n",
    "opt.pad = 127 if 'hourglass' in opt.arch else 31\n",
    "opt.num_stacks = 2 if opt.arch == 'hourglass' else 1\n",
    "\n",
    "opt.trainval = True\n",
    "if opt.trainval:\n",
    "    opt.val_intervals = 100000000\n",
    "\n",
    "opt.master_batch_size = -1\n",
    "    \n",
    "if opt.debug > 0: \n",
    "    opt.num_workers = 0\n",
    "    opt.batch_size = 1\n",
    "    opt.gpus = [opt.gpus[0]]\n",
    "    opt.master_batch_size = -1\n",
    "    \n",
    "if opt.master_batch_size == -1:\n",
    "    opt.master_batch_size = opt.batch_size // len(opt.gpus)\n",
    "    \n",
    "rest_batch_size = (opt.batch_size - opt.master_batch_size)\n",
    "opt.chunk_sizes = [opt.master_batch_size]\n",
    "for i in range(len(opt.gpus) - 1):\n",
    "    slave_chunk_size = rest_batch_size // (len(opt.gpus) - 1)\n",
    "    if i < rest_batch_size % (len(opt.gpus) - 1):\n",
    "        slave_chunk_size += 1\n",
    "    opt.chunk_sizes.append(slave_chunk_size)\n",
    "\n",
    "opt.root_dir = sys.path[0]+'/..'+'/../'\n",
    "opt.data_dir = os.path.join(opt.root_dir, 'data')\n",
    "opt.exp_dir = os.path.join(opt.root_dir, 'exp', opt.task)\n",
    "opt.save_dir = os.path.join(opt.exp_dir, opt.exp_id)\n",
    "opt.debug_dir = os.path.join(opt.save_dir, 'debug')\n",
    "\n",
    "opt.resume = True\n",
    "opt.load_model = ''\n",
    "\n",
    "if opt.resume and opt.load_model == '':\n",
    "  model_path = opt.save_dir[:-4] if opt.save_dir.endswith('TEST') \\\n",
    "              else opt.save_dir\n",
    "  opt.load_model = os.path.join(model_path, 'model_last.pth')\n",
    "    \n",
    "opt.not_rand_crop = True\n",
    "opt.shift = 0.1\n",
    "opt.scale = 0.4\n",
    "opt.rotate = 0\n",
    "opt.flip = 0.5\n",
    "opt.no_color_aug = True\n",
    "\n",
    "opt.down_ratio = 4\n",
    "opt.hm_gauss = 4 # 4 If resolution is (512,512)\n",
    "\n",
    "input_h, input_w = Dataset.default_resolution\n",
    "opt.mean, opt.std = Dataset.mean, Dataset.std\n",
    "opt.num_classes = Dataset.num_classes\n",
    "\n",
    "opt.input_res = -1\n",
    "opt.input_h = -1\n",
    "opt.input_w = -1\n",
    "\n",
    "input_h = opt.input_res if opt.input_res > 0 else input_h\n",
    "input_w = opt.input_res if opt.input_res > 0 else input_w\n",
    "opt.input_h = opt.input_h if opt.input_h > 0 else input_h\n",
    "opt.input_w = opt.input_w if opt.input_w > 0 else input_w\n",
    "opt.output_h = opt.input_h // opt.down_ratio\n",
    "opt.output_w = opt.input_w // opt.down_ratio\n",
    "opt.input_res = max(opt.input_h, opt.input_w)\n",
    "opt.output_res = max(opt.output_h, opt.output_w)\n",
    "\n",
    "opt.heads = {'hm': opt.num_classes,\n",
    "             'wh': 2 if not opt.cat_spec_wh else 2 * opt.num_classes}\n",
    "if opt.reg_offset:\n",
    "    opt.heads.update({'reg': 2})\n",
    "\n",
    "opt.reg_loss = 'l1'\n",
    "opt.hm_weight = 1\n",
    "opt.off_weight = 1\n",
    "opt.wh_weight = 0.1\n",
    "\n",
    "opt.norm_wh = True\n",
    "    \n",
    "opt.eval_oracle_hm = True\n",
    "opt.eval_oracle_wh = False\n",
    "opt.eval_oracle_offset = False"
   ]
  },
  {
   "cell_type": "code",
   "execution_count": 9,
   "metadata": {},
   "outputs": [
    {
     "name": "stdout",
     "output_type": "stream",
     "text": [
      "==> initializing coco 2017 train data.\n",
      "loading annotations into memory...\n",
      "Done (t=13.07s)\n",
      "creating index...\n",
      "index created!\n",
      "Loaded train 118287 samples\n",
      "==> initializing coco 2017 val data.\n",
      "loading annotations into memory...\n",
      "Done (t=0.37s)\n",
      "creating index...\n",
      "index created!\n",
      "Loaded val 5000 samples\n"
     ]
    }
   ],
   "source": [
    "dataset = Dataset(opt,split)\n",
    "valset = Dataset(opt, 'val')"
   ]
  },
  {
   "cell_type": "markdown",
   "metadata": {},
   "source": [
    "## Modifying dataset"
   ]
  },
  {
   "cell_type": "markdown",
   "metadata": {},
   "source": [
    "For initial testing we are modifying the dataset to a smaller size. The following code updates the json file list to use a smalller subset of the data. "
   ]
  },
  {
   "cell_type": "code",
   "execution_count": 10,
   "metadata": {},
   "outputs": [
    {
     "name": "stdout",
     "output_type": "stream",
     "text": [
      "118287\n"
     ]
    }
   ],
   "source": [
    "all_Ids=dataset.coco.getImgIds()\n",
    "print(len(all_Ids))\n",
    "import skimage.io as io\n",
    "img_dir='~/MoDL_CenterNet/data/coco/train2017/'"
   ]
  },
  {
   "cell_type": "code",
   "execution_count": 11,
   "metadata": {},
   "outputs": [
    {
     "data": {
      "image/png": "[encoded data removed]",
      "text/plain": [
       "<Figure size 432x288 with 1 Axes>"
      ]
     },
     "metadata": {
      "needs_background": "light"
     },
     "output_type": "display_data"
    }
   ],
   "source": [
    "N=256\n",
    "numsets=1\n",
    "for iter in range(numsets):\n",
    "    imgIds_perm=np.random.permutation(len(all_Ids))\n",
    "    tmp=imgIds_perm[0:N].astype(int)\n",
    "    tmp2=[all_Ids[t] for t in tmp]\n",
    "    dataset.images=tmp2\n",
    "    dataset.num_samples=len(dataset.images)\n",
    "    sub_inst_cat=np.zeros(90)\n",
    "    for j in range(N):\n",
    "        sub_cat_lab=[]\n",
    "        img = dataset.coco.loadImgs(dataset.images[j])[0]\n",
    "        f_name=img_dir\n",
    "        f_name+=img['file_name']\n",
    "        annIds = dataset.coco.getAnnIds(imgIds=img['id'])\n",
    "        anns = dataset.coco.loadAnns(annIds)\n",
    "        sub_cat_lab=[k['category_id'] for k in anns]\n",
    "        for jj in range(90):\n",
    "            t=np.where(np.asarray(sub_cat_lab)==jj)\n",
    "            sub_inst_cat[jj-1]+=t[0].shape[0]\n",
    "    prob_sub=(sub_inst_cat+1)/np.sum(sub_inst_cat+1)    \n",
    "    plt.plot(sub_inst_cat/(np.sum(sub_inst_cat)))"
   ]
  },
  {
   "cell_type": "code",
   "execution_count": 12,
   "metadata": {},
   "outputs": [],
   "source": [
    "opt.num_iters = dataset.num_samples/opt.batch_size"
   ]
  },
  {
   "cell_type": "markdown",
   "metadata": {},
   "source": [
    "## Dataloader"
   ]
  },
  {
   "cell_type": "code",
   "execution_count": 13,
   "metadata": {},
   "outputs": [],
   "source": [
    "train_loader = td.DataLoader(\n",
    "      dataset, \n",
    "      batch_size=opt.batch_size, \n",
    "      shuffle=True,\n",
    "      num_workers=opt.num_workers,\n",
    "      pin_memory=True,\n",
    "      drop_last=True\n",
    "  )"
   ]
  },
  {
   "cell_type": "code",
   "execution_count": 14,
   "metadata": {},
   "outputs": [],
   "source": [
    "val_loader = torch.utils.data.DataLoader(\n",
    "      valset, \n",
    "      batch_size=1, \n",
    "      shuffle=False,\n",
    "      num_workers=1,\n",
    "      pin_memory=True\n",
    "  )"
   ]
  },
  {
   "cell_type": "markdown",
   "metadata": {},
   "source": [
    "# Model"
   ]
  },
  {
   "cell_type": "code",
   "execution_count": 15,
   "metadata": {},
   "outputs": [],
   "source": [
    "sys.path.append(sys.path[0]+'/../lib/models/networks/DCNv2')\n",
    "from models.model import create_model, load_model, save_model\n",
    "from trains.ctdet import CtdetTrainer"
   ]
  },
  {
   "cell_type": "code",
   "execution_count": 16,
   "metadata": {},
   "outputs": [
    {
     "name": "stdout",
     "output_type": "stream",
     "text": [
      "=> loading pretrained model https://download.pytorch.org/models/resnet18-5c106cde.pth\n"
     ]
    }
   ],
   "source": [
    "# regression on center point.\n",
    "model = create_model(opt.arch, opt.heads, opt.head_conv)"
   ]
  },
  {
   "cell_type": "code",
   "execution_count": 17,
   "metadata": {},
   "outputs": [],
   "source": [
    "optimizer = torch.optim.Adam(model.parameters(), opt.lr)"
   ]
  },
  {
   "cell_type": "markdown",
   "metadata": {},
   "source": [
    "# Trainer"
   ]
  },
  {
   "cell_type": "code",
   "execution_count": 18,
   "metadata": {},
   "outputs": [],
   "source": [
    "trainer = CtdetTrainer(opt, model, optimizer)\n",
    "trainer.set_device(opt.gpus, opt.chunk_sizes, opt.device)"
   ]
  },
  {
   "cell_type": "markdown",
   "metadata": {},
   "source": [
    "# Running main training loop"
   ]
  },
  {
   "cell_type": "code",
   "execution_count": 19,
   "metadata": {},
   "outputs": [
    {
     "name": "stdout",
     "output_type": "stream",
     "text": [
      "Starting training...\n"
     ]
    },
    {
     "name": "stderr",
     "output_type": "stream",
     "text": [
      "/opt/conda/lib/python3.7/site-packages/torch/nn/_reduction.py:43: UserWarning: size_average and reduce args will be deprecated, please use reduction='sum' instead.\n",
      "  warnings.warn(warning.format(ret))\n"
     ]
    },
    {
     "ename": "KeyboardInterrupt",
     "evalue": "",
     "output_type": "error",
     "traceback": [
      "\u001b[0;31m\u001b[0m",
      "\u001b[0;31mKeyboardInterrupt\u001b[0mTraceback (most recent call last)",
      "\u001b[0;32m<ipython-input-19-56eb04b8cb91>\u001b[0m in \u001b[0;36m<module>\u001b[0;34m\u001b[0m\n\u001b[1;32m      2\u001b[0m \u001b[0mbest\u001b[0m \u001b[0;34m=\u001b[0m \u001b[0;36m1e10\u001b[0m\u001b[0;34m\u001b[0m\u001b[0;34m\u001b[0m\u001b[0m\n\u001b[1;32m      3\u001b[0m \u001b[0;32mfor\u001b[0m \u001b[0mepoch\u001b[0m \u001b[0;32min\u001b[0m \u001b[0mrange\u001b[0m\u001b[0;34m(\u001b[0m\u001b[0mstart_epoch\u001b[0m \u001b[0;34m+\u001b[0m \u001b[0;36m1\u001b[0m\u001b[0;34m,\u001b[0m \u001b[0mopt\u001b[0m\u001b[0;34m.\u001b[0m\u001b[0mnum_epochs\u001b[0m \u001b[0;34m+\u001b[0m \u001b[0;36m1\u001b[0m\u001b[0;34m)\u001b[0m\u001b[0;34m:\u001b[0m\u001b[0;34m\u001b[0m\u001b[0;34m\u001b[0m\u001b[0m\n\u001b[0;32m----> 4\u001b[0;31m     \u001b[0mlog_dict_train\u001b[0m\u001b[0;34m,\u001b[0m \u001b[0m_\u001b[0m \u001b[0;34m=\u001b[0m \u001b[0mtrainer\u001b[0m\u001b[0;34m.\u001b[0m\u001b[0mtrain\u001b[0m\u001b[0;34m(\u001b[0m\u001b[0mepoch\u001b[0m\u001b[0;34m,\u001b[0m \u001b[0mtrain_loader\u001b[0m\u001b[0;34m)\u001b[0m\u001b[0;34m\u001b[0m\u001b[0;34m\u001b[0m\u001b[0m\n\u001b[0m\u001b[1;32m      5\u001b[0m \u001b[0;34m\u001b[0m\u001b[0m\n",
      "\u001b[0;32m/datasets/home/home-01/30/230/psarangi/MoDL_CenterNet/src/local_notebooks/../lib/trains/base_trainer.py\u001b[0m in \u001b[0;36mtrain\u001b[0;34m(self, epoch, data_loader)\u001b[0m\n\u001b[1;32m    117\u001b[0m \u001b[0;34m\u001b[0m\u001b[0m\n\u001b[1;32m    118\u001b[0m   \u001b[0;32mdef\u001b[0m \u001b[0mtrain\u001b[0m\u001b[0;34m(\u001b[0m\u001b[0mself\u001b[0m\u001b[0;34m,\u001b[0m \u001b[0mepoch\u001b[0m\u001b[0;34m,\u001b[0m \u001b[0mdata_loader\u001b[0m\u001b[0;34m)\u001b[0m\u001b[0;34m:\u001b[0m\u001b[0;34m\u001b[0m\u001b[0;34m\u001b[0m\u001b[0m\n\u001b[0;32m--> 119\u001b[0;31m     \u001b[0;32mreturn\u001b[0m \u001b[0mself\u001b[0m\u001b[0;34m.\u001b[0m\u001b[0mrun_epoch\u001b[0m\u001b[0;34m(\u001b[0m\u001b[0;34m'train'\u001b[0m\u001b[0;34m,\u001b[0m \u001b[0mepoch\u001b[0m\u001b[0;34m,\u001b[0m \u001b[0mdata_loader\u001b[0m\u001b[0;34m)\u001b[0m\u001b[0;34m\u001b[0m\u001b[0;34m\u001b[0m\u001b[0m\n\u001b[0m",
      "\u001b[0;32m/datasets/home/home-01/30/230/psarangi/MoDL_CenterNet/src/local_notebooks/../lib/trains/base_trainer.py\u001b[0m in \u001b[0;36mrun_epoch\u001b[0;34m(self, phase, epoch, data_loader)\u001b[0m\n\u001b[1;32m     72\u001b[0m         \u001b[0mself\u001b[0m\u001b[0;34m.\u001b[0m\u001b[0moptimizer\u001b[0m\u001b[0;34m.\u001b[0m\u001b[0mzero_grad\u001b[0m\u001b[0;34m(\u001b[0m\u001b[0;34m)\u001b[0m\u001b[0;34m\u001b[0m\u001b[0;34m\u001b[0m\u001b[0m\n\u001b[1;32m     73\u001b[0m         \u001b[0mloss\u001b[0m\u001b[0;34m.\u001b[0m\u001b[0mbackward\u001b[0m\u001b[0;34m(\u001b[0m\u001b[0;34m)\u001b[0m\u001b[0;34m\u001b[0m\u001b[0;34m\u001b[0m\u001b[0m\n\u001b[0;32m---> 74\u001b[0;31m         \u001b[0mself\u001b[0m\u001b[0;34m.\u001b[0m\u001b[0moptimizer\u001b[0m\u001b[0;34m.\u001b[0m\u001b[0mstep\u001b[0m\u001b[0;34m(\u001b[0m\u001b[0;34m)\u001b[0m\u001b[0;34m\u001b[0m\u001b[0;34m\u001b[0m\u001b[0m\n\u001b[0m\u001b[1;32m     75\u001b[0m       \u001b[0mbatch_time\u001b[0m\u001b[0;34m.\u001b[0m\u001b[0mupdate\u001b[0m\u001b[0;34m(\u001b[0m\u001b[0mtime\u001b[0m\u001b[0;34m.\u001b[0m\u001b[0mtime\u001b[0m\u001b[0;34m(\u001b[0m\u001b[0;34m)\u001b[0m \u001b[0;34m-\u001b[0m \u001b[0mend\u001b[0m\u001b[0;34m)\u001b[0m\u001b[0;34m\u001b[0m\u001b[0;34m\u001b[0m\u001b[0m\n\u001b[1;32m     76\u001b[0m       \u001b[0mend\u001b[0m \u001b[0;34m=\u001b[0m \u001b[0mtime\u001b[0m\u001b[0;34m.\u001b[0m\u001b[0mtime\u001b[0m\u001b[0;34m(\u001b[0m\u001b[0;34m)\u001b[0m\u001b[0;34m\u001b[0m\u001b[0;34m\u001b[0m\u001b[0m\n",
      "\u001b[0;32m/opt/conda/lib/python3.7/site-packages/torch/optim/adam.py\u001b[0m in \u001b[0;36mstep\u001b[0;34m(self, closure)\u001b[0m\n\u001b[1;32m    101\u001b[0m                     \u001b[0mdenom\u001b[0m \u001b[0;34m=\u001b[0m \u001b[0;34m(\u001b[0m\u001b[0mmax_exp_avg_sq\u001b[0m\u001b[0;34m.\u001b[0m\u001b[0msqrt\u001b[0m\u001b[0;34m(\u001b[0m\u001b[0;34m)\u001b[0m \u001b[0;34m/\u001b[0m \u001b[0mmath\u001b[0m\u001b[0;34m.\u001b[0m\u001b[0msqrt\u001b[0m\u001b[0;34m(\u001b[0m\u001b[0mbias_correction2\u001b[0m\u001b[0;34m)\u001b[0m\u001b[0;34m)\u001b[0m\u001b[0;34m.\u001b[0m\u001b[0madd_\u001b[0m\u001b[0;34m(\u001b[0m\u001b[0mgroup\u001b[0m\u001b[0;34m[\u001b[0m\u001b[0;34m'eps'\u001b[0m\u001b[0;34m]\u001b[0m\u001b[0;34m)\u001b[0m\u001b[0;34m\u001b[0m\u001b[0;34m\u001b[0m\u001b[0m\n\u001b[1;32m    102\u001b[0m                 \u001b[0;32melse\u001b[0m\u001b[0;34m:\u001b[0m\u001b[0;34m\u001b[0m\u001b[0;34m\u001b[0m\u001b[0m\n\u001b[0;32m--> 103\u001b[0;31m                     \u001b[0mdenom\u001b[0m \u001b[0;34m=\u001b[0m \u001b[0;34m(\u001b[0m\u001b[0mexp_avg_sq\u001b[0m\u001b[0;34m.\u001b[0m\u001b[0msqrt\u001b[0m\u001b[0;34m(\u001b[0m\u001b[0;34m)\u001b[0m \u001b[0;34m/\u001b[0m \u001b[0mmath\u001b[0m\u001b[0;34m.\u001b[0m\u001b[0msqrt\u001b[0m\u001b[0;34m(\u001b[0m\u001b[0mbias_correction2\u001b[0m\u001b[0;34m)\u001b[0m\u001b[0;34m)\u001b[0m\u001b[0;34m.\u001b[0m\u001b[0madd_\u001b[0m\u001b[0;34m(\u001b[0m\u001b[0mgroup\u001b[0m\u001b[0;34m[\u001b[0m\u001b[0;34m'eps'\u001b[0m\u001b[0;34m]\u001b[0m\u001b[0;34m)\u001b[0m\u001b[0;34m\u001b[0m\u001b[0;34m\u001b[0m\u001b[0m\n\u001b[0m\u001b[1;32m    104\u001b[0m \u001b[0;34m\u001b[0m\u001b[0m\n\u001b[1;32m    105\u001b[0m                 \u001b[0mstep_size\u001b[0m \u001b[0;34m=\u001b[0m \u001b[0mgroup\u001b[0m\u001b[0;34m[\u001b[0m\u001b[0;34m'lr'\u001b[0m\u001b[0;34m]\u001b[0m \u001b[0;34m/\u001b[0m \u001b[0mbias_correction1\u001b[0m\u001b[0;34m\u001b[0m\u001b[0;34m\u001b[0m\u001b[0m\n",
      "\u001b[0;31mKeyboardInterrupt\u001b[0m: "
     ]
    }
   ],
   "source": [
    "## Test for Using their train function from Ctdetrainer\n",
    "# print('Starting training...')\n",
    "# best = 1e10\n",
    "# for epoch in range(start_epoch + 1, opt.num_epochs + 1):\n",
    "#     log_dict_train, _ = trainer.train(epoch, train_loader)\n",
    "    "
   ]
  },
  {
   "cell_type": "code",
   "execution_count": 19,
   "metadata": {},
   "outputs": [],
   "source": [
    "sys.path.append(sys.path[0]+\"/../project_tools\")\n",
    "import nntools as nt"
   ]
  },
  {
   "cell_type": "code",
   "execution_count": 20,
   "metadata": {},
   "outputs": [],
   "source": [
    "class Centernet_model(nt.NeuralNetwork,CtdetTrainer):\n",
    "    def __init__(self,opt,model,optimizer=None):\n",
    "        nt.NeuralNetwork.__init__(self)\n",
    "        CtdetTrainer.__init__(self,opt,model,optimizer=None)\n",
    "        self.model=model\n",
    "        self.opt=opt\n",
    "    def forward(self,x):\n",
    "        return self.model(x)\n",
    "    def criterion(self, y, d):\n",
    "        return self.loss(y,d)"
   ]
  },
  {
   "cell_type": "code",
   "execution_count": 21,
   "metadata": {},
   "outputs": [
    {
     "name": "stdout",
     "output_type": "stream",
     "text": [
      "<torch.utils.data.dataloader.DataLoader object at 0x7f8381794048>\n"
     ]
    }
   ],
   "source": [
    "net = Centernet_model(opt,model)\n",
    "net = net.to(device)\n",
    "print(train_loader)\n",
    "train_loader = td.DataLoader(\n",
    "      dataset, \n",
    "      batch_size=opt.batch_size, \n",
    "      shuffle=True,\n",
    "      num_workers=opt.num_workers,\n",
    "      pin_memory=True,\n",
    "      drop_last=True\n",
    "  )"
   ]
  },
  {
   "cell_type": "markdown",
   "metadata": {},
   "source": [
    "## Manual Batch Loss computation"
   ]
  },
  {
   "cell_type": "code",
   "execution_count": 27,
   "metadata": {},
   "outputs": [],
   "source": [
    "for idx,batch in enumerate(train_loader):\n",
    "    #print(idx)\n",
    "    for k in batch:\n",
    "        if k != 'meta':\n",
    "            batch[k] = batch[k].to(device=opt.device, non_blocking=True) \n",
    "    y=net.model(batch['input'])\n",
    "    #y=net.model(batch['input'])\n",
    "    #batch = batch.to(net.device)\n",
    "    #y,_,_=net.model_with_loss(batch)\n",
    "    #print(idx)\n",
    "    loss1,_ = net.loss(y,batch)"
   ]
  },
  {
   "cell_type": "code",
   "execution_count": 28,
   "metadata": {},
   "outputs": [
    {
     "name": "stdout",
     "output_type": "stream",
     "text": [
      "tensor(0.5531, device='cuda:0', grad_fn=<MeanBackward0>)\n"
     ]
    }
   ],
   "source": [
    "print(loss1.mean())"
   ]
  },
  {
   "cell_type": "markdown",
   "metadata": {},
   "source": [
    "## Experiment with custom function run2"
   ]
  },
  {
   "cell_type": "code",
   "execution_count": 23,
   "metadata": {},
   "outputs": [],
   "source": [
    "adam = torch.optim.Adam(net.parameters(), lr=opt.lr)\n",
    "stats_manager = nt.StatsManager()\n",
    "exp2 = nt.Experiment(net,dataset,valset,adam,stats_manager,\n",
    "output_dir=\"olalalaeo\", batch_size=opt.batch_size,perform_validation_during_training=False)"
   ]
  },
  {
   "cell_type": "code",
   "execution_count": 24,
   "metadata": {},
   "outputs": [
    {
     "name": "stdout",
     "output_type": "stream",
     "text": [
      "Start/Continue training from epoch 0\n"
     ]
    },
    {
     "name": "stderr",
     "output_type": "stream",
     "text": [
      "/opt/conda/lib/python3.7/site-packages/torch/nn/_reduction.py:43: UserWarning: size_average and reduce args will be deprecated, please use reduction='sum' instead.\n",
      "  warnings.warn(warning.format(ret))\n"
     ]
    },
    {
     "name": "stdout",
     "output_type": "stream",
     "text": [
      "Epoch 1 (Time: 129.53s)\n",
      "Epoch 2 (Time: 128.07s)\n",
      "Finish training for 2 epochs\n"
     ]
    }
   ],
   "source": [
    "exp2.run2(num_epochs=2)"
   ]
  },
  {
   "cell_type": "code",
   "execution_count": 27,
   "metadata": {},
   "outputs": [
    {
     "data": {
      "text/plain": [
       "[0.3100794213532936, 0.2878762423642911]"
      ]
     },
     "execution_count": 27,
     "metadata": {},
     "output_type": "execute_result"
    }
   ],
   "source": [
    "exp2.history"
   ]
  },
  {
   "cell_type": "code",
   "execution_count": null,
   "metadata": {},
   "outputs": [],
   "source": []
  }
 ],
 "metadata": {
  "kernelspec": {
   "display_name": "Python 3",
   "language": "python",
   "name": "python3"
  },
  "language_info": {
   "codemirror_mode": {
    "name": "ipython",
    "version": 3
   },
   "file_extension": ".py",
   "mimetype": "text/x-python",
   "name": "python",
   "nbconvert_exporter": "python",
   "pygments_lexer": "ipython3",
   "version": "3.7.3"
  }
 },
 "nbformat": 4,
 "nbformat_minor": 2
}
