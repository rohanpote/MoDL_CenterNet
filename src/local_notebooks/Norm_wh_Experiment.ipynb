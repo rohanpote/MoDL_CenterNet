{
 "cells": [
  {
   "cell_type": "code",
   "execution_count": 2,
   "metadata": {},
   "outputs": [],
   "source": [
    "import os\n",
    "import numpy as np \n",
    "import torch\n",
    "from torch import nn\n",
    "from torch.nn import functional as F \n",
    "import torch.utils.data as td\n",
    "import torchvision as tv\n",
    "import pandas as pd\n",
    "from PIL import Image\n",
    "from matplotlib import pyplot as plt\n",
    "import sys"
   ]
  },
  {
   "cell_type": "code",
   "execution_count": 3,
   "metadata": {},
   "outputs": [],
   "source": [
    "mod1 = torch.load(sys.path[0]+'/../../models/ctdet_coco_resdcn18.pth')"
   ]
  },
  {
   "cell_type": "code",
   "execution_count": 4,
   "metadata": {},
   "outputs": [],
   "source": [
    "import os\n",
    "import sys\n",
    "sys.path.append(sys.path[0]+'/../lib') # Add library folder\n",
    "from opts import opts\n",
    "from datasets.dataset_factory import get_dataset\n",
    "from datasets.dataset.coco import COCO\n",
    "from datasets.sample.ctdet import CTDetDataset\n",
    "from trains.ctdet import CtdetTrainer\n",
    "from trains.train_factory import train_factory"
   ]
  },
  {
   "cell_type": "code",
   "execution_count": 5,
   "metadata": {},
   "outputs": [],
   "source": [
    "Dataset = get_dataset('coco', 'ctdet')\n",
    "sys.path.append(sys.path[0]+'/../project_tools')\n",
    "from fcn_opts import fcn_opts\n",
    "opt = fcn_opts(Dataset)\n",
    "opt.norm_wh=True"
   ]
  },
  {
   "cell_type": "code",
   "execution_count": 6,
   "metadata": {},
   "outputs": [
    {
     "name": "stdout",
     "output_type": "stream",
     "text": [
      "==> initializing coco 2017 train data.\n",
      "loading annotations into memory...\n",
      "Done (t=18.18s)\n",
      "creating index...\n",
      "index created!\n",
      "Loaded train 118287 samples\n",
      "==> initializing coco 2017 val data.\n",
      "loading annotations into memory...\n",
      "Done (t=0.58s)\n",
      "creating index...\n",
      "index created!\n",
      "Loaded val 5000 samples\n"
     ]
    }
   ],
   "source": [
    "dataset = Dataset(opt,'train')\n",
    "valset = Dataset(opt, 'val')"
   ]
  },
  {
   "cell_type": "code",
   "execution_count": 7,
   "metadata": {},
   "outputs": [
    {
     "name": "stdout",
     "output_type": "stream",
     "text": [
      "118287\n"
     ]
    }
   ],
   "source": [
    "all_Ids=dataset.coco.getImgIds()\n",
    "print(len(all_Ids))\n",
    "import skimage.io as io\n",
    "img_dir='~/MoDL_CenterNet/data/coco/train2017/'"
   ]
  },
  {
   "cell_type": "code",
   "execution_count": 8,
   "metadata": {},
   "outputs": [
    {
     "data": {
      "image/png": "[encoded data removed]",
      "text/plain": [
       "<Figure size 432x288 with 1 Axes>"
      ]
     },
     "metadata": {
      "needs_background": "light"
     },
     "output_type": "display_data"
    }
   ],
   "source": [
    "N=2048\n",
    "import random\n",
    "np.random.seed(0)\n",
    "numsets=1\n",
    "for iter in range(numsets):\n",
    "    imgIds_perm=np.random.permutation(len(all_Ids))\n",
    "    tmp=imgIds_perm[0:N].astype(int)\n",
    "    tmp2=[all_Ids[t] for t in tmp]\n",
    "    dataset.images=tmp2\n",
    "    dataset.num_samples=len(dataset.images)\n",
    "    sub_inst_cat=np.zeros(90)\n",
    "    for j in range(N):\n",
    "        sub_cat_lab=[]\n",
    "        img = dataset.coco.loadImgs(dataset.images[j])[0]\n",
    "        f_name=img_dir\n",
    "        f_name+=img['file_name']\n",
    "        annIds = dataset.coco.getAnnIds(imgIds=img['id'])\n",
    "        anns = dataset.coco.loadAnns(annIds)\n",
    "        sub_cat_lab=[k['category_id'] for k in anns]\n",
    "        for jj in range(90):\n",
    "            t=np.where(np.asarray(sub_cat_lab)==jj)\n",
    "            sub_inst_cat[jj-1]+=t[0].shape[0]\n",
    "    prob_sub=(sub_inst_cat+1)/np.sum(sub_inst_cat+1)    \n",
    "    plt.plot(sub_inst_cat/(np.sum(sub_inst_cat)))\n",
    "np.random.seed(2)"
   ]
  },
  {
   "cell_type": "code",
   "execution_count": 9,
   "metadata": {},
   "outputs": [
    {
     "name": "stdout",
     "output_type": "stream",
     "text": [
      "5000\n"
     ]
    }
   ],
   "source": [
    "all_Ids=valset.coco.getImgIds()\n",
    "print(len(all_Ids))\n",
    "import skimage.io as io\n",
    "img_dir='~/MoDL_CenterNet/data/coco/val2017/'"
   ]
  },
  {
   "cell_type": "code",
   "execution_count": 10,
   "metadata": {},
   "outputs": [],
   "source": [
    "N=512\n",
    "np.random.seed(0)\n",
    "imgIds_perm=np.random.permutation(len(all_Ids))\n",
    "tmp=imgIds_perm[0:N].astype(int)\n",
    "tmp2=[all_Ids[t] for t in tmp]\n",
    "valset.images=tmp2\n",
    "valset.num_samples=len(valset.images)\n",
    "np.random.seed(2)\n",
    "opt.num_iters = dataset.num_samples/opt.batch_size"
   ]
  },
  {
   "cell_type": "code",
   "execution_count": 11,
   "metadata": {},
   "outputs": [],
   "source": [
    "sys.path.append(sys.path[0]+'/../lib/models/networks/DCNv2')\n",
    "from models.model import create_model, load_model, save_model\n",
    "from trains.ctdet import CtdetTrainer"
   ]
  },
  {
   "cell_type": "code",
   "execution_count": 12,
   "metadata": {},
   "outputs": [
    {
     "name": "stdout",
     "output_type": "stream",
     "text": [
      "=> loading pretrained model https://download.pytorch.org/models/resnet18-5c106cde.pth\n",
      "=> init deconv weights from normal distribution\n"
     ]
    }
   ],
   "source": [
    "model = create_model(opt.arch, opt.heads, opt.head_conv)\n",
    "optimizer = torch.optim.Adam(model.parameters(), opt.lr)"
   ]
  },
  {
   "cell_type": "code",
   "execution_count": 13,
   "metadata": {},
   "outputs": [],
   "source": [
    "sys.path.append(sys.path[0]+\"/../project_tools\")\n",
    "import nntools as nt"
   ]
  },
  {
   "cell_type": "code",
   "execution_count": 14,
   "metadata": {},
   "outputs": [],
   "source": [
    "class Centernet_model(nt.NeuralNetwork,CtdetTrainer):\n",
    "    def __init__(self,opt,model,optimizer=None,FineTune=True):\n",
    "        nt.NeuralNetwork.__init__(self)\n",
    "        CtdetTrainer.__init__(self,opt,model,optimizer=None)\n",
    "        if FineTune:\n",
    "            for name,param in model.named_parameters():\n",
    "               if name[0:2]=='hm' or name[0:2]=='re' or name[0:2]=='wh':\n",
    "                    param.data = 0.1*torch.randn(param.size()) # Random initialization\n",
    "               else: \n",
    "                    param.requires_grad=False\n",
    "            #print(name,param.requires_grad)\n",
    "        self.model=model\n",
    "        self.opt=opt\n",
    "    def forward(self,x):\n",
    "        return self.model(x)\n",
    "    def criterion(self, y, d):\n",
    "        return self.loss(y,d)"
   ]
  },
  {
   "cell_type": "code",
   "execution_count": 15,
   "metadata": {},
   "outputs": [
    {
     "name": "stdout",
     "output_type": "stream",
     "text": [
      "loaded /datasets/home/home-01/30/230/psarangi/Project_folder/MoDL_CenterNet/src/local_notebooks/../../models/ctdet_coco_resdcn18.pth, epoch 140\n"
     ]
    }
   ],
   "source": [
    "model1 =load_model(model,sys.path[0]+'/../../models/ctdet_coco_resdcn18.pth');\n",
    "net = Centernet_model(opt,model1);\n",
    "net = net.to(opt.device)\n",
    "train_loader = td.DataLoader(\n",
    "      dataset, \n",
    "      batch_size=opt.batch_size, \n",
    "      shuffle=True,\n",
    "      num_workers=opt.num_workers,\n",
    "      pin_memory=True,\n",
    "      drop_last=True\n",
    "  )"
   ]
  },
  {
   "cell_type": "code",
   "execution_count": 16,
   "metadata": {},
   "outputs": [],
   "source": [
    "adam = torch.optim.Adam(net.parameters(), lr=opt.lr)\n",
    "stats_manager = nt.StatsManager()\n",
    "exp2 = nt.Experiment(net,dataset,valset,adam,stats_manager,\n",
    "output_dir=\"Experiment_Norm_wh1\", batch_size=opt.batch_size,perform_validation_during_training=False)"
   ]
  },
  {
   "cell_type": "code",
   "execution_count": 17,
   "metadata": {},
   "outputs": [
    {
     "name": "stdout",
     "output_type": "stream",
     "text": [
      "Start/Continue training from epoch 131\n",
      "Finish training for 131 epochs\n"
     ]
    }
   ],
   "source": [
    "exp2.run2(num_epochs=131)"
   ]
  },
  {
   "cell_type": "code",
   "execution_count": 18,
   "metadata": {},
   "outputs": [
    {
     "name": "stdout",
     "output_type": "stream",
     "text": [
      "[18015.36006617546, 680.165474653244, 170.88002629578114, 78.35753380507231, 43.34644763916731, 28.4555295817554, 20.35240488126874, 15.580805649980903, 12.759119579568505, 10.755813149735332, 9.231525141745806, 8.266338031738997, 7.6370581071823835, 7.043935419991612, 6.687457742169499, 6.337231293320656, 6.122648414224386, 5.963350089266896, 5.7712320648133755, 5.63838410936296, 5.5426191464066505, 5.479624891653657, 5.417703567072749, 5.322033436968923, 5.335964418947697, 5.241817293688655, 5.220587458461523, 5.145378544926643, 5.090395716018975, 5.055325774475932, 5.024761650711298, 4.896852486766875, 4.858726154081523, 4.75216856226325, 4.680482681840658, 4.534927851520479, 4.409563624300063, 4.307208134792745, 4.216367860324681, 4.152552873827517, 4.041354433633387, 3.9547805106267333, 3.870158969424665, 3.799458760768175, 3.686333119869232, 3.6031186962500215, 3.4961462896317244, 3.4141772743314505, 3.3492152383551, 3.2685446813702583, 3.2235221825540066, 3.125141667202115, 3.0716802328824997, 3.0373471593484282, 2.9369463408365846, 2.895299951545894, 2.819735965691507, 2.759958636946976, 2.7143730698153377, 2.6694639399647713, 2.6276659411378205, 2.5679107666946948, 2.509205146227032, 2.473988986108452, 2.438153887167573, 2.403282367158681, 2.3646691949106753, 2.357598213944584, 2.2949520787224174, 2.286393666639924, 2.2761297267861664, 2.2446576352231205, 2.2292234818451107, 2.183005129452795, 2.1723361080512404, 2.161334805190563, 2.1932732118293643, 2.1470916653051972, 2.1193227879703045, 2.141230142209679, 2.107018862850964, 2.0722148455679417, 2.087327723391354, 2.0709505383856595, 2.064161733724177, 2.0770456939935684, 2.059880299028009, 2.046295076608658, 2.046028305310756, 2.0553242550231516, 2.0221244851127267, 2.0424146871082485, 2.022010143380612, 2.0198870934545994, 2.013125843834132, 2.01639561355114, 2.007445250172168, 2.0266869361512363, 2.014314776752144, 2.0366220897994936, 2.0010425453074276, 2.0050333230756223, 1.9901040508411825, 1.9925630022771657, 1.9781231209635735, 1.9594200802966952, 1.9859332316555083, 1.987303460482508, 1.99982074694708, 2.0030412385240197, 1.9990539904683828, 1.9853165093809366, 1.9781630048528314, 1.9691135152243078, 2.0218820876907557, 1.9922157623805106, 1.961713801138103, 1.9661282147280872, 1.9983485536649823, 1.9884912176057696, 1.9639877704903483, 1.9669274701736867, 1.9977432400919497, 1.9559776596724987, 1.9783934908919036, 1.9666722789406776, 1.976477694697678, 1.9606712525710464, 1.9777417262084782, 1.960785185918212, 1.9822132047265768]\n"
     ]
    },
    {
     "data": {
      "image/png": "[encoded data removed]",
      "text/plain": [
       "<Figure size 432x288 with 1 Axes>"
      ]
     },
     "metadata": {
      "needs_background": "light"
     },
     "output_type": "display_data"
    }
   ],
   "source": [
    "print(exp2.history)\n",
    "plt.plot(exp2.history)\n",
    "plt.show()"
   ]
  },
  {
   "cell_type": "code",
   "execution_count": 19,
   "metadata": {},
   "outputs": [
    {
     "name": "stderr",
     "output_type": "stream",
     "text": [
      "/opt/conda/lib/python3.7/site-packages/torch/nn/_reduction.py:43: UserWarning: size_average and reduce args will be deprecated, please use reduction='sum' instead.\n",
      "  warnings.warn(warning.format(ret))\n"
     ]
    },
    {
     "data": {
      "text/plain": [
       "2.149205491788507"
      ]
     },
     "execution_count": 19,
     "metadata": {},
     "output_type": "execute_result"
    }
   ],
   "source": [
    "exp2.evaluate2()"
   ]
  },
  {
   "cell_type": "code",
   "execution_count": 20,
   "metadata": {},
   "outputs": [],
   "source": [
    "import sys\n",
    "sys.path.append(sys.path[0]+'/../lib/models/networks/DCNv2')\n",
    "from detectors.ctdet import CtdetDetector"
   ]
  },
  {
   "cell_type": "code",
   "execution_count": 21,
   "metadata": {},
   "outputs": [],
   "source": [
    "opt.load_model = sys.path[0]+'/../../models/ctdet_coco_resdcn18.pth'\n",
    "opt.dataset = 'coco'\n",
    "opt.debugger_theme = 'white'\n",
    "opt.flip_test = False\n",
    "opt.K = 100\n",
    "opt.nms = False\n",
    "opt.vis_thresh = 0.3"
   ]
  },
  {
   "cell_type": "code",
   "execution_count": 22,
   "metadata": {},
   "outputs": [
    {
     "name": "stdout",
     "output_type": "stream",
     "text": [
      "Creating model...\n",
      "=> loading pretrained model https://download.pytorch.org/models/resnet18-5c106cde.pth\n",
      "=> init deconv weights from normal distribution\n",
      "loaded /datasets/home/home-01/30/230/psarangi/Project_folder/MoDL_CenterNet/src/local_notebooks/../../models/ctdet_coco_resdcn18.pth, epoch 140\n"
     ]
    }
   ],
   "source": [
    "detector = CtdetDetector(opt)\n",
    "detector.model=net.model\n",
    "detector.model.eval();"
   ]
  },
  {
   "cell_type": "code",
   "execution_count": null,
   "metadata": {},
   "outputs": [],
   "source": [
    "tst_id=40\n",
    "img_id = valset.images[tst_id]\n",
    "img_info = valset.coco.loadImgs(ids=[img_id])[0]\n",
    "img_path = os.path.join(valset.img_dir, img_info['file_name'])\n",
    "ret = detector.run(img_path)\n",
    "#results[img_id] = ret['results']"
   ]
  },
  {
   "cell_type": "code",
   "execution_count": 1,
   "metadata": {
    "scrolled": false
   },
   "outputs": [
    {
     "ename": "NameError",
     "evalue": "name 'np' is not defined",
     "output_type": "error",
     "traceback": [
      "\u001b[0;31m\u001b[0m",
      "\u001b[0;31mNameError\u001b[0mTraceback (most recent call last)",
      "\u001b[0;32m<ipython-input-1-95c86eaccac6>\u001b[0m in \u001b[0;36m<module>\u001b[0;34m\u001b[0m\n\u001b[1;32m     15\u001b[0m ]\n\u001b[1;32m     16\u001b[0m \u001b[0;32mimport\u001b[0m \u001b[0mcv2\u001b[0m\u001b[0;34m\u001b[0m\u001b[0;34m\u001b[0m\u001b[0m\n\u001b[0;32m---> 17\u001b[0;31m \u001b[0mimgIds_test\u001b[0m\u001b[0;34m=\u001b[0m\u001b[0mnp\u001b[0m\u001b[0;34m.\u001b[0m\u001b[0mrandom\u001b[0m\u001b[0;34m.\u001b[0m\u001b[0mpermutation\u001b[0m\u001b[0;34m(\u001b[0m\u001b[0mlen\u001b[0m\u001b[0;34m(\u001b[0m\u001b[0mvalset\u001b[0m\u001b[0;34m)\u001b[0m\u001b[0;34m)\u001b[0m\u001b[0;34m\u001b[0m\u001b[0;34m\u001b[0m\u001b[0m\n\u001b[0m\u001b[1;32m     18\u001b[0m \u001b[0;32mfor\u001b[0m \u001b[0mtst_id\u001b[0m \u001b[0;32min\u001b[0m \u001b[0mrange\u001b[0m\u001b[0;34m(\u001b[0m\u001b[0;36m10\u001b[0m\u001b[0;34m)\u001b[0m\u001b[0;34m:\u001b[0m\u001b[0;34m\u001b[0m\u001b[0;34m\u001b[0m\u001b[0m\n\u001b[1;32m     19\u001b[0m     \u001b[0;31m#print(len(valset))\u001b[0m\u001b[0;34m\u001b[0m\u001b[0;34m\u001b[0m\u001b[0;34m\u001b[0m\u001b[0m\n",
      "\u001b[0;31mNameError\u001b[0m: name 'np' is not defined"
     ]
    }
   ],
   "source": [
    "coco_class_name = [\n",
    "     'person', 'bicycle', 'car', 'motorcycle', 'airplane',\n",
    "     'bus', 'train', 'truck', 'boat', 'traffic light', 'fire hydrant',\n",
    "     'stop sign', 'parking meter', 'bench', 'bird', 'cat', 'dog', 'horse',\n",
    "     'sheep', 'cow', 'elephant', 'bear', 'zebra', 'giraffe', 'backpack',\n",
    "     'umbrella', 'handbag', 'tie', 'suitcase', 'frisbee', 'skis',\n",
    "     'snowboard', 'sports ball', 'kite', 'baseball bat', 'baseball glove',\n",
    "     'skateboard', 'surfboard', 'tennis racket', 'bottle', 'wine glass',\n",
    "     'cup', 'fork', 'knife', 'spoon', 'bowl', 'banana', 'apple', 'sandwich',\n",
    "     'orange', 'broccoli', 'carrot', 'hot dog', 'pizza', 'donut', 'cake',\n",
    "     'chair', 'couch', 'potted plant', 'bed', 'dining table', 'toilet', 'tv',\n",
    "     'laptop', 'mouse', 'remote', 'keyboard', 'cell phone', 'microwave',\n",
    "     'oven', 'toaster', 'sink', 'refrigerator', 'book', 'clock', 'vase',\n",
    "     'scissors', 'teddy bear', 'hair drier', 'toothbrush'\n",
    "]\n",
    "import cv2\n",
    "imgIds_test=np.random.permutation(len(valset))\n",
    "for tst_id in range(10):\n",
    "    #print(len(valset))\n",
    "    tst_id=imgIds_test[tst_id]\n",
    "    img_id = valset.images[tst_id]\n",
    "    img_info = valset.coco.loadImgs(ids=[img_id])[0]\n",
    "    img_path = os.path.join(valset.img_dir, img_info['file_name'])\n",
    "    ret = detector.run(img_path)\n",
    "    im_id = valset[tst_id]['meta']['img_id']\n",
    "    print(im_id)\n",
    "    img = valset.coco.loadImgs(im_id)[0]\n",
    "    print(img)\n",
    "    img_dir='~/Project_folder/MoDL_CenterNet/data/coco/val2017/'\n",
    "    f_name=img_dir\n",
    "    f_name+=img['file_name']\n",
    "    import skimage.io as io\n",
    "    I = io.imread(f_name)\n",
    "    show_txt = True\n",
    "    for c_id in range(80):\n",
    "        for j in range(ret['results'][c_id+1].shape[0]):\n",
    "            if ret['results'][c_id+1][j][4]>=opt.vis_thresh*2/3:\n",
    "                bbox = ret['results'][c_id+1][j]\n",
    "                cv2.rectangle(I, (bbox[0], bbox[1]), (bbox[2], bbox[3]), (0,255,0), 2)\n",
    "                if show_txt:\n",
    "                    txt = '{}{:.1f}'.format(coco_class_name[c_id], bbox[4]) # text+confidence\n",
    "                    font = cv2.FONT_HERSHEY_SIMPLEX\n",
    "                    cat_size = cv2.getTextSize(txt, font, 0.5, 2)[0]\n",
    "                    cv2.rectangle(I, (bbox[0], int(bbox[1] - cat_size[1] - 2)),(int(bbox[0] + cat_size[0]), int(bbox[1] - 2)), (0,255,0), -1)\n",
    "                    cv2.putText(I, txt, (bbox[0], int(bbox[1] - 2)), font, 0.5, (0, 0, 0),thickness=1, lineType=cv2.LINE_AA)\n",
    "\n",
    "\n",
    "    fig, axes = plt.subplots(figsize=(13,13))\n",
    "    axes.imshow(I)"
   ]
  },
  {
   "cell_type": "code",
   "execution_count": 24,
   "metadata": {},
   "outputs": [
    {
     "name": "stdout",
     "output_type": "stream",
     "text": [
      "==> initializing coco 2017 val data.\n",
      "loading annotations into memory...\n",
      "Done (t=0.59s)\n",
      "creating index...\n",
      "index created!\n",
      "Loaded val 5000 samples\n",
      "0\n",
      "100\n",
      "200\n",
      "300\n",
      "400\n",
      "500\n",
      "600\n",
      "700\n",
      "800\n",
      "900\n",
      "1000\n",
      "1100\n",
      "1200\n",
      "1300\n",
      "1400\n",
      "1500\n",
      "1600\n",
      "1700\n",
      "1800\n",
      "1900\n",
      "2000\n",
      "2100\n",
      "2200\n",
      "2300\n",
      "2400\n",
      "2500\n",
      "2600\n",
      "2700\n",
      "2800\n",
      "2900\n",
      "3000\n",
      "3100\n",
      "3200\n",
      "3300\n",
      "3400\n",
      "3500\n",
      "3600\n",
      "3700\n",
      "3800\n",
      "3900\n",
      "4000\n",
      "4100\n",
      "4200\n",
      "4300\n",
      "4400\n",
      "4500\n",
      "4600\n",
      "4700\n",
      "4800\n",
      "4900\n"
     ]
    }
   ],
   "source": [
    "valset = Dataset(opt, 'val')\n",
    "results = {}\n",
    "for tst_id in range(len(valset)):\n",
    "    if np.mod(tst_id,100)==0:\n",
    "        print(tst_id)\n",
    "    img_id = valset.images[tst_id]\n",
    "    img_info = valset.coco.loadImgs(ids=[img_id])[0]\n",
    "    img_path = os.path.join(valset.img_dir, img_info['file_name'])\n",
    "    ret = detector.run(img_path)\n",
    "    results[img_id] = ret['results']"
   ]
  },
  {
   "cell_type": "code",
   "execution_count": 25,
   "metadata": {},
   "outputs": [
    {
     "name": "stdout",
     "output_type": "stream",
     "text": [
      "Loading and preparing results...\n",
      "DONE (t=6.97s)\n",
      "creating index...\n",
      "index created!\n",
      "Running per image evaluation...\n",
      "Evaluate annotation type *bbox*\n",
      "DONE (t=68.76s).\n",
      "Accumulating evaluation results...\n",
      "DONE (t=14.19s).\n",
      " Average Precision  (AP) @[ IoU=0.50:0.95 | area=   all | maxDets=100 ] = 0.228\n",
      " Average Precision  (AP) @[ IoU=0.50      | area=   all | maxDets=100 ] = 0.377\n",
      " Average Precision  (AP) @[ IoU=0.75      | area=   all | maxDets=100 ] = 0.235\n",
      " Average Precision  (AP) @[ IoU=0.50:0.95 | area= small | maxDets=100 ] = 0.070\n",
      " Average Precision  (AP) @[ IoU=0.50:0.95 | area=medium | maxDets=100 ] = 0.262\n",
      " Average Precision  (AP) @[ IoU=0.50:0.95 | area= large | maxDets=100 ] = 0.378\n",
      " Average Recall     (AR) @[ IoU=0.50:0.95 | area=   all | maxDets=  1 ] = 0.244\n",
      " Average Recall     (AR) @[ IoU=0.50:0.95 | area=   all | maxDets= 10 ] = 0.378\n",
      " Average Recall     (AR) @[ IoU=0.50:0.95 | area=   all | maxDets=100 ] = 0.400\n",
      " Average Recall     (AR) @[ IoU=0.50:0.95 | area= small | maxDets=100 ] = 0.137\n",
      " Average Recall     (AR) @[ IoU=0.50:0.95 | area=medium | maxDets=100 ] = 0.432\n",
      " Average Recall     (AR) @[ IoU=0.50:0.95 | area= large | maxDets=100 ] = 0.651\n"
     ]
    }
   ],
   "source": [
    "import sys\n",
    "opt.save_dir = sys.path[0]+'/results_weighted_l1'\n",
    "valset.run_eval(results, opt.save_dir)"
   ]
  },
  {
   "cell_type": "code",
   "execution_count": null,
   "metadata": {},
   "outputs": [],
   "source": [
    "import cv2\n",
    "import skimage.io as io\n",
    "img_dir=sys.path[0]+'/../../data/coco/val2017/'\n",
    "num_cols = 1\n",
    "P=4\n",
    "fig, axes = plt.subplots(ncols=num_cols, nrows=int(P/num_cols), figsize=(20,300))\n",
    "show_txt = True\n",
    "\n",
    "coco_class_name = [\n",
    "     'person', 'bicycle', 'car', 'motorcycle', 'airplane',\n",
    "     'bus', 'train', 'truck', 'boat', 'traffic light', 'fire hydrant',\n",
    "     'stop sign', 'parking meter', 'bench', 'bird', 'cat', 'dog', 'horse',\n",
    "     'sheep', 'cow', 'elephant', 'bear', 'zebra', 'giraffe', 'backpack',\n",
    "     'umbrella', 'handbag', 'tie', 'suitcase', 'frisbee', 'skis',\n",
    "     'snowboard', 'sports ball', 'kite', 'baseball bat', 'baseball glove',\n",
    "     'skateboard', 'surfboard', 'tennis racket', 'bottle', 'wine glass',\n",
    "     'cup', 'fork', 'knife', 'spoon', 'bowl', 'banana', 'apple', 'sandwich',\n",
    "     'orange', 'broccoli', 'carrot', 'hot dog', 'pizza', 'donut', 'cake',\n",
    "     'chair', 'couch', 'potted plant', 'bed', 'dining table', 'toilet', 'tv',\n",
    "     'laptop', 'mouse', 'remote', 'keyboard', 'cell phone', 'microwave',\n",
    "     'oven', 'toaster', 'sink', 'refrigerator', 'book', 'clock', 'vase',\n",
    "     'scissors', 'teddy bear', 'hair drier', 'toothbrush'\n",
    "]\n",
    "\n",
    "\n",
    "\n",
    "for ind in range(P):\n",
    "    img_id = valset.images[ind]\n",
    "    im_id = img_id\n",
    "    img = valset.coco.loadImgs(im_id)[0]\n",
    "    f_name=img_dir\n",
    "    f_name+=img['file_name']\n",
    "    I = io.imread(f_name)\n",
    "    for c_id in range(80):\n",
    "        for j in range(results[img_id][c_id+1].shape[0]):\n",
    "            if results[img_id][c_id+1][j][4]>=opt.vis_thresh:\n",
    "                bbox = results[img_id][c_id+1][j]\n",
    "                cv2.rectangle(I, (bbox[0], bbox[1]), (bbox[2], bbox[3]), (0,255,0), 2)\n",
    "                if show_txt:\n",
    "                    txt = '{}{:.1f}'.format(coco_class_name[c_id], bbox[4]) # text+confidence\n",
    "                    font = cv2.FONT_HERSHEY_SIMPLEX\n",
    "                    cat_size = cv2.getTextSize(txt, font, 0.5, 2)[0]\n",
    "                    cv2.rectangle(I, (bbox[0], int(bbox[1] - cat_size[1] - 2)),\n",
    "                                  (int(bbox[0] + cat_size[0]), int(bbox[1] - 2)), (0,255,0), -1)\n",
    "                    cv2.putText(I, txt, (bbox[0], int(bbox[1] - 2)), \n",
    "                                font, 0.5, (0, 0, 0),thickness=1, lineType=cv2.LINE_AA)\n",
    "    axes[ind].imshow(I)"
   ]
  },
  {
   "cell_type": "code",
   "execution_count": null,
   "metadata": {},
   "outputs": [],
   "source": []
  }
 ],
 "metadata": {
  "kernelspec": {
   "display_name": "Python 3",
   "language": "python",
   "name": "python3"
  },
  "language_info": {
   "codemirror_mode": {
    "name": "ipython",
    "version": 3
   },
   "file_extension": ".py",
   "mimetype": "text/x-python",
   "name": "python",
   "nbconvert_exporter": "python",
   "pygments_lexer": "ipython3",
   "version": "3.7.3"
  }
 },
 "nbformat": 4,
 "nbformat_minor": 2
}
