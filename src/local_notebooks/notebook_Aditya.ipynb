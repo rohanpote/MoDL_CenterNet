{
 "cells": [
  {
   "cell_type": "markdown",
   "metadata": {},
   "source": [
    "# Basic Model Testing"
   ]
  },
  {
   "cell_type": "code",
   "execution_count": 1,
   "metadata": {},
   "outputs": [],
   "source": [
    "import os\n",
    "import numpy as np \n",
    "import torch\n",
    "from torch import nn\n",
    "from torch.nn import functional as F \n",
    "import torch.utils.data as td\n",
    "import torchvision as tv\n",
    "import pandas as pd\n",
    "from PIL import Image\n",
    "from matplotlib import pyplot as plt"
   ]
  },
  {
   "cell_type": "code",
   "execution_count": 2,
   "metadata": {},
   "outputs": [],
   "source": [
    "#mod1 = torch.load('/datasets/home/27/827/ausant/ECE285 Project/MoDL_CenterNet/models/ctdet_coco_resdcn18.pth')"
   ]
  },
  {
   "cell_type": "code",
   "execution_count": 3,
   "metadata": {},
   "outputs": [],
   "source": [
    "#for name in mod1['state_dict']:\n",
    "#    print(name)"
   ]
  },
  {
   "cell_type": "markdown",
   "metadata": {},
   "source": [
    "# Loading the Dataset"
   ]
  },
  {
   "cell_type": "code",
   "execution_count": 4,
   "metadata": {},
   "outputs": [],
   "source": [
    "import os\n",
    "import sys\n",
    "sys.path.append(sys.path[0]+'/../lib') # Add library folder\n",
    "#print(sys.path)"
   ]
  },
  {
   "cell_type": "code",
   "execution_count": 23,
   "metadata": {},
   "outputs": [],
   "source": [
    "from opts import opts\n",
    "from datasets.dataset_factory import get_dataset\n",
    "from datasets.dataset.coco import COCO\n",
    "from datasets.sample.ctdet import CTDetDataset\n",
    "from trains.ctdet import CtdetTrainer\n",
    "from trains.train_factory import train_factory"
   ]
  },
  {
   "cell_type": "code",
   "execution_count": 6,
   "metadata": {},
   "outputs": [],
   "source": [
    "Dataset = get_dataset('coco', 'ctdet')"
   ]
  },
  {
   "cell_type": "markdown",
   "metadata": {},
   "source": [
    "Create opt for passing to the constructor. \\\n",
    "Also pass a string with the training value"
   ]
  },
  {
   "cell_type": "code",
   "execution_count": 7,
   "metadata": {},
   "outputs": [],
   "source": [
    "opt = type('', (), {})()\n",
    "opt.data_dir = sys.path[0]+'/../../data/'\n",
    "opt.task = 'ctdet'\n",
    "split = 'train'"
   ]
  },
  {
   "cell_type": "code",
   "execution_count": 8,
   "metadata": {},
   "outputs": [
    {
     "name": "stdout",
     "output_type": "stream",
     "text": [
      "==> initializing coco 2017 train data.\n",
      "loading annotations into memory...\n",
      "Done (t=16.46s)\n",
      "creating index...\n",
      "index created!\n",
      "Loaded train 118287 samples\n",
      "==> initializing coco 2017 val data.\n",
      "loading annotations into memory...\n",
      "Done (t=0.63s)\n",
      "creating index...\n",
      "index created!\n",
      "Loaded val 5000 samples\n"
     ]
    }
   ],
   "source": [
    "dataset = Dataset(opt,split)\n",
    "valset = Dataset(opt, 'val')"
   ]
  },
  {
   "cell_type": "markdown",
   "metadata": {},
   "source": [
    "## Modifying dataset"
   ]
  },
  {
   "cell_type": "markdown",
   "metadata": {},
   "source": [
    "For initial testing we are modifying the dataset to a smaller size. The following code updates the json file list to use a smalller subset of the data. "
   ]
  },
  {
   "cell_type": "code",
   "execution_count": 14,
   "metadata": {},
   "outputs": [
    {
     "name": "stdout",
     "output_type": "stream",
     "text": [
      "118287\n"
     ]
    }
   ],
   "source": [
    "all_Ids=dataset.coco.getImgIds()\n",
    "print(len(all_Ids))\n",
    "import skimage.io as io\n",
    "img_dir='/datasets/home/home-01/27/827/ausant/ECE285Project/MoDL_CenterNet/data/coco/train2017/'"
   ]
  },
  {
   "cell_type": "code",
   "execution_count": 15,
   "metadata": {},
   "outputs": [
    {
     "name": "stdout",
     "output_type": "stream",
     "text": [
      "/datasets/home/home-01/27/827/ausant/ECE285Project/MoDL_CenterNet/data/coco/train2017/000000261665.jpg\n",
      "/datasets/home/home-01/27/827/ausant/ECE285Project/MoDL_CenterNet/data/coco/train2017/000000365711.jpg\n",
      "/datasets/home/home-01/27/827/ausant/ECE285Project/MoDL_CenterNet/data/coco/train2017/000000547297.jpg\n",
      "/datasets/home/home-01/27/827/ausant/ECE285Project/MoDL_CenterNet/data/coco/train2017/000000188624.jpg\n",
      "/datasets/home/home-01/27/827/ausant/ECE285Project/MoDL_CenterNet/data/coco/train2017/000000524436.jpg\n",
      "[261665, 365711, 547297, 188624, 524436]\n",
      "/datasets/home/home-01/27/827/ausant/ECE285Project/MoDL_CenterNet/data/coco/train2017/000000241283.jpg\n",
      "/datasets/home/home-01/27/827/ausant/ECE285Project/MoDL_CenterNet/data/coco/train2017/000000561891.jpg\n",
      "/datasets/home/home-01/27/827/ausant/ECE285Project/MoDL_CenterNet/data/coco/train2017/000000268750.jpg\n",
      "/datasets/home/home-01/27/827/ausant/ECE285Project/MoDL_CenterNet/data/coco/train2017/000000086140.jpg\n",
      "/datasets/home/home-01/27/827/ausant/ECE285Project/MoDL_CenterNet/data/coco/train2017/000000066650.jpg\n",
      "[241283, 561891, 268750, 86140, 66650]\n",
      "/datasets/home/home-01/27/827/ausant/ECE285Project/MoDL_CenterNet/data/coco/train2017/000000201374.jpg\n",
      "/datasets/home/home-01/27/827/ausant/ECE285Project/MoDL_CenterNet/data/coco/train2017/000000521176.jpg\n",
      "/datasets/home/home-01/27/827/ausant/ECE285Project/MoDL_CenterNet/data/coco/train2017/000000518517.jpg\n",
      "/datasets/home/home-01/27/827/ausant/ECE285Project/MoDL_CenterNet/data/coco/train2017/000000294423.jpg\n",
      "/datasets/home/home-01/27/827/ausant/ECE285Project/MoDL_CenterNet/data/coco/train2017/000000441008.jpg\n",
      "[201374, 521176, 518517, 294423, 441008]\n",
      "/datasets/home/home-01/27/827/ausant/ECE285Project/MoDL_CenterNet/data/coco/train2017/000000303735.jpg\n",
      "/datasets/home/home-01/27/827/ausant/ECE285Project/MoDL_CenterNet/data/coco/train2017/000000153577.jpg\n",
      "/datasets/home/home-01/27/827/ausant/ECE285Project/MoDL_CenterNet/data/coco/train2017/000000091159.jpg\n",
      "/datasets/home/home-01/27/827/ausant/ECE285Project/MoDL_CenterNet/data/coco/train2017/000000348950.jpg\n",
      "/datasets/home/home-01/27/827/ausant/ECE285Project/MoDL_CenterNet/data/coco/train2017/000000022256.jpg\n",
      "[303735, 153577, 91159, 348950, 22256]\n",
      "/datasets/home/home-01/27/827/ausant/ECE285Project/MoDL_CenterNet/data/coco/train2017/000000398554.jpg\n",
      "/datasets/home/home-01/27/827/ausant/ECE285Project/MoDL_CenterNet/data/coco/train2017/000000414501.jpg\n",
      "/datasets/home/home-01/27/827/ausant/ECE285Project/MoDL_CenterNet/data/coco/train2017/000000092445.jpg\n",
      "/datasets/home/home-01/27/827/ausant/ECE285Project/MoDL_CenterNet/data/coco/train2017/000000145249.jpg\n",
      "/datasets/home/home-01/27/827/ausant/ECE285Project/MoDL_CenterNet/data/coco/train2017/000000342591.jpg\n",
      "[398554, 414501, 92445, 145249, 342591]\n",
      "/datasets/home/home-01/27/827/ausant/ECE285Project/MoDL_CenterNet/data/coco/train2017/000000296989.jpg\n",
      "/datasets/home/home-01/27/827/ausant/ECE285Project/MoDL_CenterNet/data/coco/train2017/000000016257.jpg\n",
      "/datasets/home/home-01/27/827/ausant/ECE285Project/MoDL_CenterNet/data/coco/train2017/000000520482.jpg\n",
      "/datasets/home/home-01/27/827/ausant/ECE285Project/MoDL_CenterNet/data/coco/train2017/000000215826.jpg\n",
      "/datasets/home/home-01/27/827/ausant/ECE285Project/MoDL_CenterNet/data/coco/train2017/000000308027.jpg\n",
      "[296989, 16257, 520482, 215826, 308027]\n",
      "/datasets/home/home-01/27/827/ausant/ECE285Project/MoDL_CenterNet/data/coco/train2017/000000405962.jpg\n",
      "/datasets/home/home-01/27/827/ausant/ECE285Project/MoDL_CenterNet/data/coco/train2017/000000522194.jpg\n",
      "/datasets/home/home-01/27/827/ausant/ECE285Project/MoDL_CenterNet/data/coco/train2017/000000265719.jpg\n",
      "/datasets/home/home-01/27/827/ausant/ECE285Project/MoDL_CenterNet/data/coco/train2017/000000335316.jpg\n",
      "/datasets/home/home-01/27/827/ausant/ECE285Project/MoDL_CenterNet/data/coco/train2017/000000297695.jpg\n",
      "[405962, 522194, 265719, 335316, 297695]\n",
      "/datasets/home/home-01/27/827/ausant/ECE285Project/MoDL_CenterNet/data/coco/train2017/000000204525.jpg\n",
      "/datasets/home/home-01/27/827/ausant/ECE285Project/MoDL_CenterNet/data/coco/train2017/000000330238.jpg\n",
      "/datasets/home/home-01/27/827/ausant/ECE285Project/MoDL_CenterNet/data/coco/train2017/000000420575.jpg\n",
      "/datasets/home/home-01/27/827/ausant/ECE285Project/MoDL_CenterNet/data/coco/train2017/000000120537.jpg\n",
      "/datasets/home/home-01/27/827/ausant/ECE285Project/MoDL_CenterNet/data/coco/train2017/000000233882.jpg\n",
      "[204525, 330238, 420575, 120537, 233882]\n",
      "/datasets/home/home-01/27/827/ausant/ECE285Project/MoDL_CenterNet/data/coco/train2017/000000387301.jpg\n",
      "/datasets/home/home-01/27/827/ausant/ECE285Project/MoDL_CenterNet/data/coco/train2017/000000557586.jpg\n",
      "/datasets/home/home-01/27/827/ausant/ECE285Project/MoDL_CenterNet/data/coco/train2017/000000425578.jpg\n",
      "/datasets/home/home-01/27/827/ausant/ECE285Project/MoDL_CenterNet/data/coco/train2017/000000087327.jpg\n",
      "/datasets/home/home-01/27/827/ausant/ECE285Project/MoDL_CenterNet/data/coco/train2017/000000565230.jpg\n",
      "[387301, 557586, 425578, 87327, 565230]\n",
      "/datasets/home/home-01/27/827/ausant/ECE285Project/MoDL_CenterNet/data/coco/train2017/000000415455.jpg\n",
      "/datasets/home/home-01/27/827/ausant/ECE285Project/MoDL_CenterNet/data/coco/train2017/000000338118.jpg\n",
      "/datasets/home/home-01/27/827/ausant/ECE285Project/MoDL_CenterNet/data/coco/train2017/000000079924.jpg\n",
      "/datasets/home/home-01/27/827/ausant/ECE285Project/MoDL_CenterNet/data/coco/train2017/000000391976.jpg\n",
      "/datasets/home/home-01/27/827/ausant/ECE285Project/MoDL_CenterNet/data/coco/train2017/000000498295.jpg\n",
      "[415455, 338118, 79924, 391976, 498295]\n"
     ]
    },
    {
     "data": {
      "image/png": "[encoded data removed]",
      "text/plain": [
       "<Figure size 432x288 with 1 Axes>"
      ]
     },
     "metadata": {
      "needs_background": "light"
     },
     "output_type": "display_data"
    }
   ],
   "source": [
    "N=5\n",
    "kld=np.zeros(10)\n",
    "for iter in range(10):\n",
    "    imgIds_perm=np.random.permutation(len(all_Ids))\n",
    "    tmp=imgIds_perm[0:N].astype(int)\n",
    "    tmp2=[all_Ids[t] for t in tmp]\n",
    "    dataset.images=tmp2\n",
    "    dataset.num_samples=len(dataset.images)\n",
    "    sub_inst_cat=np.zeros(90)\n",
    "    for j in range(N):\n",
    "        sub_cat_lab=[]\n",
    "        #print(dataset.images[j],all_Ids[imgIds_perm[j]])\n",
    "        img = dataset.coco.loadImgs(dataset.images[j])[0]\n",
    "        #id_vec.append(img['id'])\n",
    "        f_name=img_dir\n",
    "        f_name+=img['file_name']\n",
    "        print(f_name)\n",
    "        I = io.imread(f_name)\n",
    "        #print(img['coco_url'])\n",
    "        #plt.figure()\n",
    "        #plt.imshow(I)\n",
    "        annIds = dataset.coco.getAnnIds(imgIds=img['id'])\n",
    "        anns = dataset.coco.loadAnns(annIds)\n",
    "        sub_cat_lab=[k['category_id'] for k in anns]\n",
    "        for jj in range(90):\n",
    "            t=np.where(np.asarray(sub_cat_lab)==jj)\n",
    "            sub_inst_cat[jj-1]+=t[0].shape[0]\n",
    "    #print(sub_inst_cat/np.sum(sub_inst_cat),np.sum(sub_inst_cat))\n",
    "    prob_sub=(sub_inst_cat+1)/np.sum(sub_inst_cat+1)\n",
    "    #print(np.log(prob1/(prob_sub+0.001)))\n",
    "    #kld[iter]=np.sum(prob1*np.log(prob1/prob_sub))\n",
    "    \n",
    "    plt.plot(sub_inst_cat/(np.sum(sub_inst_cat)))\n",
    "    print(dataset.images)\n",
    "    #plt.show()\n",
    "#plt.figure()\n",
    "#print(kld)\n",
    "#x=np.arange(90)\n",
    "#print(x.shape,prob1[0,:].shape)\n",
    "#plt.plot(x,prob1[0,:])"
   ]
  },
  {
   "cell_type": "markdown",
   "metadata": {},
   "source": [
    "## Dataloader"
   ]
  },
  {
   "cell_type": "code",
   "execution_count": 16,
   "metadata": {},
   "outputs": [],
   "source": [
    "opt.num_workers = 4 # Number of dataloader threads\n",
    "opt.batch_size = 32\n",
    "train_loader = td.DataLoader(\n",
    "      dataset, \n",
    "      batch_size=opt.batch_size, \n",
    "      shuffle=True,\n",
    "      num_workers=opt.num_workers,\n",
    "      pin_memory=True,\n",
    "      drop_last=True\n",
    "  )"
   ]
  },
  {
   "cell_type": "code",
   "execution_count": 17,
   "metadata": {},
   "outputs": [],
   "source": [
    "val_loader = torch.utils.data.DataLoader(\n",
    "      valset, \n",
    "      batch_size=1, \n",
    "      shuffle=False,\n",
    "      num_workers=1,\n",
    "      pin_memory=True\n",
    "  )"
   ]
  },
  {
   "cell_type": "markdown",
   "metadata": {},
   "source": [
    "# Model"
   ]
  },
  {
   "cell_type": "code",
   "execution_count": 18,
   "metadata": {},
   "outputs": [],
   "source": [
    "sys.path.append(sys.path[0]+'/../lib/models/networks/DCNv2')\n",
    "from models.model import create_model, load_model, save_model\n",
    "from trains.ctdet import CtdetTrainer"
   ]
  },
  {
   "cell_type": "code",
   "execution_count": 19,
   "metadata": {},
   "outputs": [
    {
     "name": "stderr",
     "output_type": "stream",
     "text": [
      "Downloading: \"https://download.pytorch.org/models/resnet18-5c106cde.pth\" to /tmp/xdg-cache/torch/checkpoints/resnet18-5c106cde.pth\n",
      "100%|██████████| 44.7M/44.7M [00:00<00:00, 67.4MB/s]\n"
     ]
    },
    {
     "name": "stdout",
     "output_type": "stream",
     "text": [
      "=> loading pretrained model https://download.pytorch.org/models/resnet18-5c106cde.pth\n"
     ]
    }
   ],
   "source": [
    "opt.lr = 1.25e-4 # default=1.25e-4\n",
    "opt.num_classes = dataset.num_classes\n",
    "opt.cat_spec_wh = True\n",
    "opt.arch = 'res_18'\n",
    "opt.heads = {'hm': opt.num_classes, 'wh': 2 if not opt.cat_spec_wh else 2 * opt.num_classes, 'reg': 2}\n",
    "opt.head_conv = 64 # '64 for resnets and 256 for dla.'\n",
    "opt.mse_loss = True\n",
    "opt.reg_loss = True\n",
    "opt.dense_wh = True # apply weighted regression near center or just apply regression on center point.\n",
    "model = create_model(opt.arch, opt.heads, opt.head_conv)"
   ]
  },
  {
   "cell_type": "code",
   "execution_count": 20,
   "metadata": {},
   "outputs": [],
   "source": [
    "optimizer = torch.optim.Adam(model.parameters(), opt.lr)\n",
    "trainer = CtdetTrainer(opt, model, optimizer)"
   ]
  },
  {
   "cell_type": "markdown",
   "metadata": {},
   "source": [
    "## Trainer"
   ]
  },
  {
   "cell_type": "code",
   "execution_count": 24,
   "metadata": {},
   "outputs": [],
   "source": [
    "opt.gpus = [0];\n",
    "opt.chunk_sizes = [15]\n",
    "opt.device = 'cuda'\n",
    "Trainer = train_factory[opt.task]\n",
    "trainer = Trainer(opt, model, optimizer)\n",
    "trainer.set_device(opt.gpus, opt.chunk_sizes, opt.device)"
   ]
  },
  {
   "cell_type": "markdown",
   "metadata": {},
   "source": [
    "# Running main training loop"
   ]
  },
  {
   "cell_type": "code",
   "execution_count": null,
   "metadata": {},
   "outputs": [],
   "source": [
    "opt.num_epochs = 140"
   ]
  },
  {
   "cell_type": "code",
   "execution_count": null,
   "metadata": {},
   "outputs": [],
   "source": [
    "print('Starting training...')\n",
    "best = 1e10"
   ]
  }
 ],
 "metadata": {
  "kernelspec": {
   "display_name": "Python 3",
   "language": "python",
   "name": "python3"
  },
  "language_info": {
   "codemirror_mode": {
    "name": "ipython",
    "version": 3
   },
   "file_extension": ".py",
   "mimetype": "text/x-python",
   "name": "python",
   "nbconvert_exporter": "python",
   "pygments_lexer": "ipython3",
   "version": "3.7.3"
  }
 },
 "nbformat": 4,
 "nbformat_minor": 2
}
