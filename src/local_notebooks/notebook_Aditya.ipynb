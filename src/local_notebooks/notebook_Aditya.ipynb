{
 "cells": [
  {
   "cell_type": "markdown",
   "metadata": {},
   "source": [
    "# Basic Model Testing"
   ]
  },
  {
   "cell_type": "code",
   "execution_count": 1,
   "metadata": {},
   "outputs": [],
   "source": [
    "import os\n",
    "import numpy as np \n",
    "import torch\n",
    "from torch import nn\n",
    "from torch.nn import functional as F \n",
    "import torch.utils.data as td\n",
    "import torchvision as tv\n",
    "import pandas as pd\n",
    "from PIL import Image\n",
    "from matplotlib import pyplot as plt\n",
    "import sys"
   ]
  },
  {
   "cell_type": "markdown",
   "metadata": {},
   "source": [
    "# Loading the Dataset"
   ]
  },
  {
   "cell_type": "code",
   "execution_count": 2,
   "metadata": {},
   "outputs": [],
   "source": [
    "import os\n",
    "import sys\n",
    "sys.path.append(sys.path[0]+'/../lib') # Add library folder\n",
    "#print(sys.path)"
   ]
  },
  {
   "cell_type": "code",
   "execution_count": 3,
   "metadata": {},
   "outputs": [],
   "source": [
    "from opts import opts\n",
    "from datasets.dataset_factory import get_dataset\n",
    "from datasets.dataset.coco import COCO\n",
    "from datasets.sample.ctdet import CTDetDataset\n",
    "from trains.ctdet import CtdetTrainer\n",
    "from trains.train_factory import train_factory"
   ]
  },
  {
   "cell_type": "code",
   "execution_count": 4,
   "metadata": {},
   "outputs": [],
   "source": [
    "Dataset = get_dataset('coco', 'ctdet')"
   ]
  },
  {
   "cell_type": "markdown",
   "metadata": {},
   "source": [
    "# Initializing opt"
   ]
  },
  {
   "cell_type": "code",
   "execution_count": 5,
   "metadata": {},
   "outputs": [],
   "source": [
    "sys.path.append(sys.path[0]+'/../project_tools')\n",
    "from fcn_opts import fcn_opts\n",
    "opt = fcn_opts(Dataset)"
   ]
  },
  {
   "cell_type": "markdown",
   "metadata": {},
   "source": [
    "Create opt for passing to the constructor. \\\n",
    "Also pass a string with the training value"
   ]
  },
  {
   "cell_type": "markdown",
   "metadata": {},
   "source": [
    "# Loading Full Dataset"
   ]
  },
  {
   "cell_type": "code",
   "execution_count": 6,
   "metadata": {},
   "outputs": [
    {
     "name": "stdout",
     "output_type": "stream",
     "text": [
      "==> initializing coco 2017 train data.\n",
      "loading annotations into memory...\n",
      "Done (t=17.49s)\n",
      "creating index...\n",
      "index created!\n",
      "Loaded train 118287 samples\n",
      "==> initializing coco 2017 val data.\n",
      "loading annotations into memory...\n",
      "Done (t=0.62s)\n",
      "creating index...\n",
      "index created!\n",
      "Loaded val 5000 samples\n"
     ]
    }
   ],
   "source": [
    "dataset = Dataset(opt,'train')\n",
    "valset = Dataset(opt, 'val')"
   ]
  },
  {
   "cell_type": "markdown",
   "metadata": {},
   "source": [
    "## Modifying dataset"
   ]
  },
  {
   "cell_type": "markdown",
   "metadata": {},
   "source": [
    "For initial testing we are modifying the dataset to a smaller size. The following code updates the json file list to use a smalller subset of the data. "
   ]
  },
  {
   "cell_type": "code",
   "execution_count": 7,
   "metadata": {},
   "outputs": [
    {
     "name": "stdout",
     "output_type": "stream",
     "text": [
      "118287\n"
     ]
    }
   ],
   "source": [
    "all_Ids=dataset.coco.getImgIds()\n",
    "print(len(all_Ids))\n",
    "import skimage.io as io\n",
    "img_dir='~/MoDL_CenterNet/data/coco/train2017/'"
   ]
  },
  {
   "cell_type": "code",
   "execution_count": 8,
   "metadata": {},
   "outputs": [],
   "source": [
    "M=128\n",
    "import random\n",
    "np.random.seed(0)\n",
    "numsets=1\n",
    "for iter in range(numsets):\n",
    "    imgIds_perm=np.random.permutation(len(all_Ids))\n",
    "    tmp=imgIds_perm[0:M].astype(int)\n",
    "    tmp2=[all_Ids[t] for t in tmp]\n",
    "    valset.images=tmp2\n",
    "    valset.num_samples=len(valset.images)\n",
    "np.random.seed(2)"
   ]
  },
  {
   "cell_type": "code",
   "execution_count": 9,
   "metadata": {},
   "outputs": [
    {
     "data": {
      "image/png": "[encoded data removed]",
      "text/plain": [
       "<Figure size 432x288 with 1 Axes>"
      ]
     },
     "metadata": {
      "needs_background": "light"
     },
     "output_type": "display_data"
    }
   ],
   "source": [
    "N=1024\n",
    "import random\n",
    "np.random.seed(0)\n",
    "numsets=1\n",
    "for iter in range(numsets):\n",
    "    imgIds_perm=np.random.permutation(len(all_Ids))\n",
    "    tmp=imgIds_perm[0:N].astype(int)\n",
    "    tmp2=[all_Ids[t] for t in tmp]\n",
    "    dataset.images=tmp2\n",
    "    dataset.num_samples=len(dataset.images)\n",
    "    sub_inst_cat=np.zeros(90)\n",
    "    for j in range(N):\n",
    "        sub_cat_lab=[]\n",
    "        img = dataset.coco.loadImgs(dataset.images[j])[0]\n",
    "        f_name=img_dir\n",
    "        f_name+=img['file_name']\n",
    "        annIds = dataset.coco.getAnnIds(imgIds=img['id'])\n",
    "        anns = dataset.coco.loadAnns(annIds)\n",
    "        sub_cat_lab=[k['category_id'] for k in anns]\n",
    "        for jj in range(90):\n",
    "            t=np.where(np.asarray(sub_cat_lab)==jj)\n",
    "            sub_inst_cat[jj-1]+=t[0].shape[0]\n",
    "    prob_sub=(sub_inst_cat+1)/np.sum(sub_inst_cat+1)    \n",
    "    plt.plot(sub_inst_cat/(np.sum(sub_inst_cat)))\n",
    "np.random.seed(2)"
   ]
  },
  {
   "cell_type": "code",
   "execution_count": 10,
   "metadata": {},
   "outputs": [
    {
     "data": {
      "text/plain": [
       "array([2, 0, 1, 3, 4])"
      ]
     },
     "execution_count": 10,
     "metadata": {},
     "output_type": "execute_result"
    }
   ],
   "source": [
    "np.random.seed(0)\n",
    "np.random.permutation(5)"
   ]
  },
  {
   "cell_type": "code",
   "execution_count": 11,
   "metadata": {},
   "outputs": [],
   "source": [
    "opt.num_iters = dataset.num_samples/opt.batch_size\n",
    "#print(dataset.images)"
   ]
  },
  {
   "cell_type": "markdown",
   "metadata": {},
   "source": [
    "# Model"
   ]
  },
  {
   "cell_type": "code",
   "execution_count": 12,
   "metadata": {},
   "outputs": [],
   "source": [
    "sys.path.append(sys.path[0]+'/../lib/models/networks/DCNv2')\n",
    "from models.model import create_model, load_model, save_model\n",
    "from trains.ctdet import CtdetTrainer"
   ]
  },
  {
   "cell_type": "code",
   "execution_count": 13,
   "metadata": {},
   "outputs": [
    {
     "name": "stdout",
     "output_type": "stream",
     "text": [
      "=> loading pretrained model https://download.pytorch.org/models/resnet18-5c106cde.pth\n"
     ]
    }
   ],
   "source": [
    "# regression on center point.\n",
    "model = create_model(opt.arch, opt.heads, opt.head_conv)"
   ]
  },
  {
   "cell_type": "code",
   "execution_count": 14,
   "metadata": {},
   "outputs": [],
   "source": [
    "optimizer = torch.optim.Adam(model.parameters(), opt.lr)"
   ]
  },
  {
   "cell_type": "markdown",
   "metadata": {},
   "source": [
    "# Centernet_model Class"
   ]
  },
  {
   "cell_type": "code",
   "execution_count": 15,
   "metadata": {},
   "outputs": [],
   "source": [
    "sys.path.append(sys.path[0]+\"/../project_tools\")\n",
    "import nntools as nt"
   ]
  },
  {
   "cell_type": "code",
   "execution_count": 16,
   "metadata": {},
   "outputs": [],
   "source": [
    "class Centernet_model(nt.NeuralNetwork,CtdetTrainer):\n",
    "    def __init__(self,opt,model,optimizer=None,FineTune=True):\n",
    "        nt.NeuralNetwork.__init__(self)\n",
    "        CtdetTrainer.__init__(self,opt,model,optimizer=None)\n",
    "        if FineTune:\n",
    "            for name,param in model.named_parameters():\n",
    "               if name[0:2]=='hm' or name[0:2]=='re' or name[0:2]=='wh':\n",
    "                    param = torch.randn(param.size()) # Random initialization\n",
    "               else: \n",
    "                    param.requires_grad=False\n",
    "            #print(name,param.requires_grad)\n",
    "        self.model=model\n",
    "        self.opt=opt\n",
    "    def forward(self,x):\n",
    "        return self.model(x)\n",
    "    def criterion(self, y, d):\n",
    "        return self.loss(y,d)"
   ]
  },
  {
   "cell_type": "markdown",
   "metadata": {},
   "source": [
    "# Trainer"
   ]
  },
  {
   "cell_type": "code",
   "execution_count": 17,
   "metadata": {},
   "outputs": [],
   "source": [
    "trainer = CtdetTrainer(opt, model, optimizer)\n",
    "trainer.set_device(opt.gpus, opt.chunk_sizes, opt.device)"
   ]
  },
  {
   "cell_type": "code",
   "execution_count": 18,
   "metadata": {
    "scrolled": true
   },
   "outputs": [
    {
     "name": "stdout",
     "output_type": "stream",
     "text": [
      "loaded /datasets/home/home-01/27/827/ausant/ECE285Project/MoDL_CenterNet/src/local_notebooks/../../models/ctdet_coco_resdcn18.pth, epoch 140\n",
      "Skip loading parameter deconv_layers.0.weight, required shapetorch.Size([512, 256, 4, 4]), loaded shapetorch.Size([256, 512, 3, 3]). If you see this, your model does not fully load the pre-trained weight. Please make sure you have correctly specified --arch xxx or set the correct --num_classes for your own dataset.\n",
      "Drop parameter deconv_layers.0.bias.If you see this, your model does not fully load the pre-trained weight. Please make sure you have correctly specified --arch xxx or set the correct --num_classes for your own dataset.\n",
      "Drop parameter deconv_layers.0.conv_offset_mask.weight.If you see this, your model does not fully load the pre-trained weight. Please make sure you have correctly specified --arch xxx or set the correct --num_classes for your own dataset.\n",
      "Drop parameter deconv_layers.0.conv_offset_mask.bias.If you see this, your model does not fully load the pre-trained weight. Please make sure you have correctly specified --arch xxx or set the correct --num_classes for your own dataset.\n",
      "Skip loading parameter deconv_layers.6.weight, required shapetorch.Size([256, 256, 4, 4]), loaded shapetorch.Size([128, 256, 3, 3]). If you see this, your model does not fully load the pre-trained weight. Please make sure you have correctly specified --arch xxx or set the correct --num_classes for your own dataset.\n",
      "Drop parameter deconv_layers.6.bias.If you see this, your model does not fully load the pre-trained weight. Please make sure you have correctly specified --arch xxx or set the correct --num_classes for your own dataset.\n",
      "Drop parameter deconv_layers.6.conv_offset_mask.weight.If you see this, your model does not fully load the pre-trained weight. Please make sure you have correctly specified --arch xxx or set the correct --num_classes for your own dataset.\n",
      "Drop parameter deconv_layers.6.conv_offset_mask.bias.If you see this, your model does not fully load the pre-trained weight. Please make sure you have correctly specified --arch xxx or set the correct --num_classes for your own dataset.\n",
      "Skip loading parameter deconv_layers.7.weight, required shapetorch.Size([256]), loaded shapetorch.Size([128]). If you see this, your model does not fully load the pre-trained weight. Please make sure you have correctly specified --arch xxx or set the correct --num_classes for your own dataset.\n",
      "Skip loading parameter deconv_layers.7.bias, required shapetorch.Size([256]), loaded shapetorch.Size([128]). If you see this, your model does not fully load the pre-trained weight. Please make sure you have correctly specified --arch xxx or set the correct --num_classes for your own dataset.\n",
      "Skip loading parameter deconv_layers.7.running_mean, required shapetorch.Size([256]), loaded shapetorch.Size([128]). If you see this, your model does not fully load the pre-trained weight. Please make sure you have correctly specified --arch xxx or set the correct --num_classes for your own dataset.\n",
      "Skip loading parameter deconv_layers.7.running_var, required shapetorch.Size([256]), loaded shapetorch.Size([128]). If you see this, your model does not fully load the pre-trained weight. Please make sure you have correctly specified --arch xxx or set the correct --num_classes for your own dataset.\n",
      "Drop parameter deconv_layers.9.weight.If you see this, your model does not fully load the pre-trained weight. Please make sure you have correctly specified --arch xxx or set the correct --num_classes for your own dataset.\n",
      "Drop parameter deconv_layers.10.weight.If you see this, your model does not fully load the pre-trained weight. Please make sure you have correctly specified --arch xxx or set the correct --num_classes for your own dataset.\n",
      "Drop parameter deconv_layers.10.bias.If you see this, your model does not fully load the pre-trained weight. Please make sure you have correctly specified --arch xxx or set the correct --num_classes for your own dataset.\n",
      "Drop parameter deconv_layers.10.running_mean.If you see this, your model does not fully load the pre-trained weight. Please make sure you have correctly specified --arch xxx or set the correct --num_classes for your own dataset.\n",
      "Drop parameter deconv_layers.10.running_var.If you see this, your model does not fully load the pre-trained weight. Please make sure you have correctly specified --arch xxx or set the correct --num_classes for your own dataset.\n",
      "Drop parameter deconv_layers.10.num_batches_tracked.If you see this, your model does not fully load the pre-trained weight. Please make sure you have correctly specified --arch xxx or set the correct --num_classes for your own dataset.\n",
      "Drop parameter deconv_layers.12.weight.If you see this, your model does not fully load the pre-trained weight. Please make sure you have correctly specified --arch xxx or set the correct --num_classes for your own dataset.\n",
      "Drop parameter deconv_layers.12.bias.If you see this, your model does not fully load the pre-trained weight. Please make sure you have correctly specified --arch xxx or set the correct --num_classes for your own dataset.\n",
      "Drop parameter deconv_layers.12.conv_offset_mask.weight.If you see this, your model does not fully load the pre-trained weight. Please make sure you have correctly specified --arch xxx or set the correct --num_classes for your own dataset.\n",
      "Drop parameter deconv_layers.12.conv_offset_mask.bias.If you see this, your model does not fully load the pre-trained weight. Please make sure you have correctly specified --arch xxx or set the correct --num_classes for your own dataset.\n",
      "Drop parameter deconv_layers.13.weight.If you see this, your model does not fully load the pre-trained weight. Please make sure you have correctly specified --arch xxx or set the correct --num_classes for your own dataset.\n",
      "Drop parameter deconv_layers.13.bias.If you see this, your model does not fully load the pre-trained weight. Please make sure you have correctly specified --arch xxx or set the correct --num_classes for your own dataset.\n",
      "Drop parameter deconv_layers.13.running_mean.If you see this, your model does not fully load the pre-trained weight. Please make sure you have correctly specified --arch xxx or set the correct --num_classes for your own dataset.\n",
      "Drop parameter deconv_layers.13.running_var.If you see this, your model does not fully load the pre-trained weight. Please make sure you have correctly specified --arch xxx or set the correct --num_classes for your own dataset.\n",
      "Drop parameter deconv_layers.13.num_batches_tracked.If you see this, your model does not fully load the pre-trained weight. Please make sure you have correctly specified --arch xxx or set the correct --num_classes for your own dataset.\n",
      "Drop parameter deconv_layers.15.weight.If you see this, your model does not fully load the pre-trained weight. Please make sure you have correctly specified --arch xxx or set the correct --num_classes for your own dataset.\n",
      "Drop parameter deconv_layers.16.weight.If you see this, your model does not fully load the pre-trained weight. Please make sure you have correctly specified --arch xxx or set the correct --num_classes for your own dataset.\n",
      "Drop parameter deconv_layers.16.bias.If you see this, your model does not fully load the pre-trained weight. Please make sure you have correctly specified --arch xxx or set the correct --num_classes for your own dataset.\n",
      "Drop parameter deconv_layers.16.running_mean.If you see this, your model does not fully load the pre-trained weight. Please make sure you have correctly specified --arch xxx or set the correct --num_classes for your own dataset.\n",
      "Drop parameter deconv_layers.16.running_var.If you see this, your model does not fully load the pre-trained weight. Please make sure you have correctly specified --arch xxx or set the correct --num_classes for your own dataset.\n",
      "Drop parameter deconv_layers.16.num_batches_tracked.If you see this, your model does not fully load the pre-trained weight. Please make sure you have correctly specified --arch xxx or set the correct --num_classes for your own dataset.\n",
      "Skip loading parameter hm.0.weight, required shapetorch.Size([64, 256, 3, 3]), loaded shapetorch.Size([64, 64, 3, 3]). If you see this, your model does not fully load the pre-trained weight. Please make sure you have correctly specified --arch xxx or set the correct --num_classes for your own dataset.\n",
      "Skip loading parameter wh.0.weight, required shapetorch.Size([64, 256, 3, 3]), loaded shapetorch.Size([64, 64, 3, 3]). If you see this, your model does not fully load the pre-trained weight. Please make sure you have correctly specified --arch xxx or set the correct --num_classes for your own dataset.\n",
      "Skip loading parameter reg.0.weight, required shapetorch.Size([64, 256, 3, 3]), loaded shapetorch.Size([64, 64, 3, 3]). If you see this, your model does not fully load the pre-trained weight. Please make sure you have correctly specified --arch xxx or set the correct --num_classes for your own dataset.\n"
     ]
    }
   ],
   "source": [
    "model =load_model(model,sys.path[0]+'/../../models/ctdet_coco_resdcn18.pth');\n",
    "net = Centernet_model(opt,model);\n",
    "net = net.to(opt.device)\n",
    "train_loader = td.DataLoader(\n",
    "      dataset, \n",
    "      batch_size=opt.batch_size, \n",
    "      shuffle=True,\n",
    "      num_workers=opt.num_workers,\n",
    "      pin_memory=True,\n",
    "      drop_last=True\n",
    "  );"
   ]
  },
  {
   "cell_type": "markdown",
   "metadata": {},
   "source": [
    "## Verification"
   ]
  },
  {
   "cell_type": "code",
   "execution_count": 19,
   "metadata": {
    "scrolled": true
   },
   "outputs": [],
   "source": [
    "#for name,param in net.model.named_parameters():\n",
    "#    print(name,param.size(),param.requires_grad)"
   ]
  },
  {
   "cell_type": "markdown",
   "metadata": {},
   "source": [
    "# Experiment: Change gauss radius for heat map"
   ]
  },
  {
   "cell_type": "code",
   "execution_count": 20,
   "metadata": {},
   "outputs": [],
   "source": [
    "opt.hm_gauss = 2\n",
    "dataset.opt = opt\n",
    "valset.opt = opt"
   ]
  },
  {
   "cell_type": "code",
   "execution_count": 21,
   "metadata": {},
   "outputs": [
    {
     "data": {
      "text/plain": [
       "2"
      ]
     },
     "execution_count": 21,
     "metadata": {},
     "output_type": "execute_result"
    }
   ],
   "source": [
    "dataset.opt.hm_gauss"
   ]
  },
  {
   "cell_type": "code",
   "execution_count": 22,
   "metadata": {},
   "outputs": [],
   "source": [
    "trainer = CtdetTrainer(opt, model, optimizer)\n",
    "trainer.set_device(opt.gpus, opt.chunk_sizes, opt.device)\n",
    "net = Centernet_model(opt,model);\n",
    "net = net.to(opt.device)\n",
    "adam = torch.optim.Adam(net.parameters(), lr=opt.lr)\n",
    "stats_manager = nt.StatsManager()\n",
    "exp_gauss_2 = nt.Experiment(net,dataset,valset,adam,stats_manager,\n",
    "output_dir=\"Experiment_GaussRad_2\", batch_size=opt.batch_size,perform_validation_during_training=False)"
   ]
  },
  {
   "cell_type": "code",
   "execution_count": 23,
   "metadata": {
    "scrolled": false
   },
   "outputs": [],
   "source": [
    "#print(exp_gauss_2)"
   ]
  },
  {
   "cell_type": "code",
   "execution_count": 39,
   "metadata": {
    "scrolled": true
   },
   "outputs": [
    {
     "name": "stdout",
     "output_type": "stream",
     "text": [
      "Start/Continue training from epoch 50\n",
      "Finish training for 50 epochs\n"
     ]
    }
   ],
   "source": [
    "exp_gauss_2.run2(num_epochs=50)"
   ]
  },
  {
   "cell_type": "code",
   "execution_count": 25,
   "metadata": {},
   "outputs": [],
   "source": [
    "opt.hm_gauss = 4\n",
    "dataset.opt = opt\n",
    "valset.opt = opt"
   ]
  },
  {
   "cell_type": "code",
   "execution_count": 26,
   "metadata": {},
   "outputs": [],
   "source": [
    "trainer = CtdetTrainer(opt, model, optimizer)\n",
    "trainer.set_device(opt.gpus, opt.chunk_sizes, opt.device)\n",
    "net = Centernet_model(opt,model);\n",
    "net = net.to(opt.device)\n",
    "adam = torch.optim.Adam(net.parameters(), lr=opt.lr)\n",
    "stats_manager = nt.StatsManager()\n",
    "exp_gauss_4 = nt.Experiment(net,dataset,valset,adam,stats_manager,\n",
    "output_dir=\"Experiment_GaussRad_4\", batch_size=opt.batch_size,perform_validation_during_training=False)"
   ]
  },
  {
   "cell_type": "code",
   "execution_count": 40,
   "metadata": {
    "scrolled": false
   },
   "outputs": [
    {
     "name": "stdout",
     "output_type": "stream",
     "text": [
      "Start/Continue training from epoch 50\n",
      "Finish training for 50 epochs\n"
     ]
    }
   ],
   "source": [
    "exp_gauss_4.run2(num_epochs=50)"
   ]
  },
  {
   "cell_type": "code",
   "execution_count": 28,
   "metadata": {},
   "outputs": [],
   "source": [
    "opt.hm_gauss = 6\n",
    "dataset.opt = opt\n",
    "valset.opt = opt"
   ]
  },
  {
   "cell_type": "code",
   "execution_count": 29,
   "metadata": {},
   "outputs": [],
   "source": [
    "trainer = CtdetTrainer(opt, model, optimizer)\n",
    "trainer.set_device(opt.gpus, opt.chunk_sizes, opt.device)\n",
    "net = Centernet_model(opt,model);\n",
    "net = net.to(opt.device)\n",
    "adam = torch.optim.Adam(net.parameters(), lr=opt.lr)\n",
    "stats_manager = nt.StatsManager()\n",
    "exp_gauss_6 = nt.Experiment(net,dataset,valset,adam,stats_manager,\n",
    "output_dir=\"Experiment_GaussRad_6\", batch_size=opt.batch_size,perform_validation_during_training=False)"
   ]
  },
  {
   "cell_type": "code",
   "execution_count": 41,
   "metadata": {},
   "outputs": [
    {
     "name": "stdout",
     "output_type": "stream",
     "text": [
      "Start/Continue training from epoch 50\n",
      "Finish training for 50 epochs\n"
     ]
    }
   ],
   "source": [
    "exp_gauss_6.run2(num_epochs=50)"
   ]
  },
  {
   "cell_type": "code",
   "execution_count": 33,
   "metadata": {},
   "outputs": [],
   "source": [
    "opt.hm_gauss = 10\n",
    "dataset.opt = opt\n",
    "valset.opt = opt"
   ]
  },
  {
   "cell_type": "code",
   "execution_count": 34,
   "metadata": {},
   "outputs": [],
   "source": [
    "trainer = CtdetTrainer(opt, model, optimizer)\n",
    "trainer.set_device(opt.gpus, opt.chunk_sizes, opt.device)\n",
    "net = Centernet_model(opt,model);\n",
    "net = net.to(opt.device)\n",
    "adam = torch.optim.Adam(net.parameters(), lr=opt.lr)\n",
    "stats_manager = nt.StatsManager()\n",
    "exp_gauss_10 = nt.Experiment(net,dataset,valset,adam,stats_manager,\n",
    "output_dir=\"Experiment_GaussRad_10\", batch_size=opt.batch_size,perform_validation_during_training=False)"
   ]
  },
  {
   "cell_type": "code",
   "execution_count": 42,
   "metadata": {},
   "outputs": [
    {
     "name": "stdout",
     "output_type": "stream",
     "text": [
      "Start/Continue training from epoch 50\n",
      "Finish training for 50 epochs\n"
     ]
    }
   ],
   "source": [
    "exp_gauss_10.run2(num_epochs=50)"
   ]
  },
  {
   "cell_type": "code",
   "execution_count": 44,
   "metadata": {},
   "outputs": [],
   "source": [
    "#exp_gauss_2.history"
   ]
  },
  {
   "cell_type": "code",
   "execution_count": 37,
   "metadata": {},
   "outputs": [
    {
     "data": {
      "image/png": "[encoded data removed]",
      "text/plain": [
       "<Figure size 432x288 with 1 Axes>"
      ]
     },
     "metadata": {
      "needs_background": "light"
     },
     "output_type": "display_data"
    }
   ],
   "source": [
    "plt.figure(1)\n",
    "plt.plot(exp_gauss_2.history)\n",
    "plt.plot(exp_gauss_4.history)\n",
    "plt.plot(exp_gauss_6.history)\n",
    "plt.plot(exp_gauss_10.history)\n",
    "plt.show()"
   ]
  },
  {
   "cell_type": "code",
   "execution_count": 38,
   "metadata": {},
   "outputs": [
    {
     "name": "stdout",
     "output_type": "stream",
     "text": [
      "0.254130590823479\n",
      "0.25695647893007845\n",
      "0.2546946245711297\n",
      "0.2555811386555433\n"
     ]
    }
   ],
   "source": [
    "print(exp_gauss_2.evaluate2())\n",
    "print(exp_gauss_4.evaluate2())\n",
    "print(exp_gauss_6.evaluate2())\n",
    "print(exp_gauss_10.evaluate2())"
   ]
  },
  {
   "cell_type": "code",
   "execution_count": null,
   "metadata": {},
   "outputs": [],
   "source": [
    "list1 = ['a','b','c']\n",
    "list0 = ['a','b','c','d']\n",
    "list2=[ k for k in list0 if k not in list1]\n",
    "print(list2)"
   ]
  }
 ],
 "metadata": {
  "kernelspec": {
   "display_name": "Python 3",
   "language": "python",
   "name": "python3"
  },
  "language_info": {
   "codemirror_mode": {
    "name": "ipython",
    "version": 3
   },
   "file_extension": ".py",
   "mimetype": "text/x-python",
   "name": "python",
   "nbconvert_exporter": "python",
   "pygments_lexer": "ipython3",
   "version": "3.7.3"
  }
 },
 "nbformat": 4,
 "nbformat_minor": 2
}
