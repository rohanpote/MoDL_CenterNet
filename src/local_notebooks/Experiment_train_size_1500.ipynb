{
 "cells": [
  {
   "cell_type": "code",
   "execution_count": 1,
   "metadata": {},
   "outputs": [],
   "source": [
    "import os\n",
    "import numpy as np \n",
    "import torch\n",
    "from torch import nn\n",
    "from torch.nn import functional as F \n",
    "import torch.utils.data as td\n",
    "import torchvision as tv\n",
    "import pandas as pd\n",
    "from PIL import Image\n",
    "from matplotlib import pyplot as plt\n",
    "import sys"
   ]
  },
  {
   "cell_type": "code",
   "execution_count": 2,
   "metadata": {},
   "outputs": [],
   "source": [
    "mod1 = torch.load(sys.path[0]+'/../../models/ctdet_coco_resdcn18.pth')"
   ]
  },
  {
   "cell_type": "code",
   "execution_count": 3,
   "metadata": {},
   "outputs": [],
   "source": [
    "import os\n",
    "import sys\n",
    "sys.path.append(sys.path[0]+'/../lib') # Add library folder\n",
    "from opts import opts\n",
    "from datasets.dataset_factory import get_dataset\n",
    "from datasets.dataset.coco import COCO\n",
    "from datasets.sample.ctdet import CTDetDataset\n",
    "from trains.ctdet import CtdetTrainer\n",
    "from trains.train_factory import train_factory"
   ]
  },
  {
   "cell_type": "code",
   "execution_count": 4,
   "metadata": {},
   "outputs": [],
   "source": [
    "Dataset = get_dataset('coco', 'ctdet')\n",
    "sys.path.append(sys.path[0]+'/../project_tools')\n",
    "from fcn_opts import fcn_opts\n",
    "opt = fcn_opts(Dataset)"
   ]
  },
  {
   "cell_type": "code",
   "execution_count": 5,
   "metadata": {},
   "outputs": [
    {
     "name": "stdout",
     "output_type": "stream",
     "text": [
      "==> initializing coco 2017 train data.\n",
      "loading annotations into memory...\n",
      "Done (t=35.71s)\n",
      "creating index...\n",
      "index created!\n",
      "Loaded train 118287 samples\n",
      "==> initializing coco 2017 val data.\n",
      "loading annotations into memory...\n",
      "Done (t=1.31s)\n",
      "creating index...\n",
      "index created!\n",
      "Loaded val 5000 samples\n"
     ]
    }
   ],
   "source": [
    "dataset = Dataset(opt,'train')\n",
    "valset = Dataset(opt, 'val')"
   ]
  },
  {
   "cell_type": "code",
   "execution_count": 6,
   "metadata": {},
   "outputs": [
    {
     "name": "stdout",
     "output_type": "stream",
     "text": [
      "118287\n"
     ]
    }
   ],
   "source": [
    "all_Ids=dataset.coco.getImgIds()\n",
    "print(len(all_Ids))\n",
    "import skimage.io as io\n",
    "img_dir='~/MoDL_CenterNet/data/coco/train2017/'"
   ]
  },
  {
   "cell_type": "code",
   "execution_count": 7,
   "metadata": {},
   "outputs": [
    {
     "data": {
      "image/png": "[encoded data removed]",
      "text/plain": [
       "<Figure size 432x288 with 1 Axes>"
      ]
     },
     "metadata": {
      "needs_background": "light"
     },
     "output_type": "display_data"
    }
   ],
   "source": [
    "N=3000\n",
    "import random\n",
    "np.random.seed(0)\n",
    "numsets=1\n",
    "for iter in range(numsets):\n",
    "    imgIds_perm=np.random.permutation(len(all_Ids))\n",
    "    tmp=imgIds_perm[0:N].astype(int)\n",
    "    tmp2=[all_Ids[t] for t in tmp]\n",
    "    dataset.images=tmp2\n",
    "    dataset.num_samples=len(dataset.images)\n",
    "    sub_inst_cat=np.zeros(90)\n",
    "    for j in range(N):\n",
    "        sub_cat_lab=[]\n",
    "        img = dataset.coco.loadImgs(dataset.images[j])[0]\n",
    "        f_name=img_dir\n",
    "        f_name+=img['file_name']\n",
    "        annIds = dataset.coco.getAnnIds(imgIds=img['id'])\n",
    "        anns = dataset.coco.loadAnns(annIds)\n",
    "        sub_cat_lab=[k['category_id'] for k in anns]\n",
    "        for jj in range(90):\n",
    "            t=np.where(np.asarray(sub_cat_lab)==jj)\n",
    "            sub_inst_cat[jj-1]+=t[0].shape[0]\n",
    "    prob_sub=(sub_inst_cat+1)/np.sum(sub_inst_cat+1)    \n",
    "    plt.plot(sub_inst_cat/(np.sum(sub_inst_cat)))\n",
    "np.random.seed(2)"
   ]
  },
  {
   "cell_type": "code",
   "execution_count": 8,
   "metadata": {},
   "outputs": [
    {
     "name": "stdout",
     "output_type": "stream",
     "text": [
      "5000\n"
     ]
    }
   ],
   "source": [
    "all_Ids=valset.coco.getImgIds()\n",
    "print(len(all_Ids))\n",
    "import skimage.io as io\n",
    "img_dir='~/MoDL_CenterNet/data/coco/val2017/'"
   ]
  },
  {
   "cell_type": "code",
   "execution_count": 9,
   "metadata": {},
   "outputs": [],
   "source": [
    "N=512\n",
    "np.random.seed(0)\n",
    "imgIds_perm=np.random.permutation(len(all_Ids))\n",
    "tmp=imgIds_perm[0:N].astype(int)\n",
    "tmp2=[all_Ids[t] for t in tmp]\n",
    "valset.images=tmp2\n",
    "valset.num_samples=len(valset.images)\n",
    "np.random.seed(2)\n",
    "opt.num_iters = dataset.num_samples/opt.batch_size"
   ]
  },
  {
   "cell_type": "code",
   "execution_count": 10,
   "metadata": {},
   "outputs": [],
   "source": [
    "sys.path.append(sys.path[0]+'/../lib/models/networks/DCNv2')\n",
    "from models.model import create_model, load_model, save_model\n",
    "from trains.ctdet import CtdetTrainer"
   ]
  },
  {
   "cell_type": "code",
   "execution_count": 11,
   "metadata": {},
   "outputs": [
    {
     "name": "stdout",
     "output_type": "stream",
     "text": [
      "=> loading pretrained model https://download.pytorch.org/models/resnet18-5c106cde.pth\n",
      "=> init deconv weights from normal distribution\n"
     ]
    }
   ],
   "source": [
    "model = create_model(opt.arch, opt.heads, opt.head_conv)\n",
    "optimizer = torch.optim.Adam(model.parameters(), opt.lr)"
   ]
  },
  {
   "cell_type": "code",
   "execution_count": 12,
   "metadata": {},
   "outputs": [],
   "source": [
    "sys.path.append(sys.path[0]+\"/../project_tools\")\n",
    "import nntools as nt"
   ]
  },
  {
   "cell_type": "code",
   "execution_count": 13,
   "metadata": {},
   "outputs": [],
   "source": [
    "class Centernet_model(nt.NeuralNetwork,CtdetTrainer):\n",
    "    def __init__(self,opt,model,optimizer=None,FineTune=True):\n",
    "        nt.NeuralNetwork.__init__(self)\n",
    "        CtdetTrainer.__init__(self,opt,model,optimizer=None)\n",
    "        if FineTune:\n",
    "            for name,param in model.named_parameters():\n",
    "               if name[0:2]=='hm' or name[0:2]=='re' or name[0:2]=='wh':\n",
    "                    param.data = 0.1*torch.randn(param.size()) # Random initialization\n",
    "               else: \n",
    "                    param.requires_grad=False\n",
    "            #print(name,param.requires_grad)\n",
    "        self.model=model\n",
    "        self.opt=opt\n",
    "    def forward(self,x):\n",
    "        return self.model(x)\n",
    "    def criterion(self, y, d):\n",
    "        return self.loss(y,d)"
   ]
  },
  {
   "cell_type": "code",
   "execution_count": 14,
   "metadata": {},
   "outputs": [
    {
     "name": "stdout",
     "output_type": "stream",
     "text": [
      "loaded /datasets/home/home-01/30/230/psarangi/Project_folder/MoDL_CenterNet/src/local_notebooks/../../models/ctdet_coco_resdcn18.pth, epoch 140\n"
     ]
    }
   ],
   "source": [
    "model1 =load_model(model,sys.path[0]+'/../../models/ctdet_coco_resdcn18.pth');\n",
    "net = Centernet_model(opt,model1);\n",
    "net = net.to(opt.device)\n",
    "train_loader = td.DataLoader(\n",
    "      dataset, \n",
    "      batch_size=opt.batch_size, \n",
    "      shuffle=True,\n",
    "      num_workers=opt.num_workers,\n",
    "      pin_memory=True,\n",
    "      drop_last=True\n",
    "  )"
   ]
  },
  {
   "cell_type": "code",
   "execution_count": 15,
   "metadata": {},
   "outputs": [],
   "source": [
    "adam = torch.optim.Adam(net.parameters(), lr=opt.lr)\n",
    "stats_manager = nt.StatsManager()\n",
    "exp2 = nt.Experiment(net,dataset,valset,adam,stats_manager,\n",
    "output_dir=\"Experiment_tr_size_3000\", batch_size=opt.batch_size,perform_validation_during_training=False)"
   ]
  },
  {
   "cell_type": "code",
   "execution_count": 16,
   "metadata": {},
   "outputs": [
    {
     "name": "stdout",
     "output_type": "stream",
     "text": [
      "Start/Continue training from epoch 163\n"
     ]
    },
    {
     "name": "stderr",
     "output_type": "stream",
     "text": [
      "/opt/conda/lib/python3.7/site-packages/torch/nn/_reduction.py:43: UserWarning: size_average and reduce args will be deprecated, please use reduction='sum' instead.\n",
      "  warnings.warn(warning.format(ret))\n"
     ]
    },
    {
     "name": "stdout",
     "output_type": "stream",
     "text": [
      "Epoch 164 (Time: 565.38s)\n",
      "Epoch 165 (Time: 562.95s)\n",
      "Epoch 166 (Time: 566.60s)\n",
      "Epoch 167 (Time: 567.70s)\n",
      "Epoch 168 (Time: 565.97s)\n",
      "Epoch 169 (Time: 565.58s)\n"
     ]
    },
    {
     "ename": "KeyboardInterrupt",
     "evalue": "",
     "output_type": "error",
     "traceback": [
      "\u001b[0;31m\u001b[0m",
      "\u001b[0;31mKeyboardInterrupt\u001b[0mTraceback (most recent call last)",
      "\u001b[0;32m<ipython-input-16-c11e487d84df>\u001b[0m in \u001b[0;36m<module>\u001b[0;34m\u001b[0m\n\u001b[0;32m----> 1\u001b[0;31m \u001b[0mexp2\u001b[0m\u001b[0;34m.\u001b[0m\u001b[0mrun2\u001b[0m\u001b[0;34m(\u001b[0m\u001b[0mnum_epochs\u001b[0m\u001b[0;34m=\u001b[0m\u001b[0;36m200\u001b[0m\u001b[0;34m)\u001b[0m\u001b[0;34m\u001b[0m\u001b[0;34m\u001b[0m\u001b[0m\n\u001b[0m",
      "\u001b[0;32m/datasets/home/home-01/30/230/psarangi/Project_folder/MoDL_CenterNet/src/local_notebooks/../project_tools/nntools.py\u001b[0m in \u001b[0;36mrun2\u001b[0;34m(self, num_epochs, plot)\u001b[0m\n\u001b[1;32m    305\u001b[0m             \u001b[0ms\u001b[0m \u001b[0;34m=\u001b[0m \u001b[0mtime\u001b[0m\u001b[0;34m.\u001b[0m\u001b[0mtime\u001b[0m\u001b[0;34m(\u001b[0m\u001b[0;34m)\u001b[0m\u001b[0;34m\u001b[0m\u001b[0;34m\u001b[0m\u001b[0m\n\u001b[1;32m    306\u001b[0m             \u001b[0mself\u001b[0m\u001b[0;34m.\u001b[0m\u001b[0mstats_manager\u001b[0m\u001b[0;34m.\u001b[0m\u001b[0minit\u001b[0m\u001b[0;34m(\u001b[0m\u001b[0;34m)\u001b[0m\u001b[0;34m\u001b[0m\u001b[0;34m\u001b[0m\u001b[0m\n\u001b[0;32m--> 307\u001b[0;31m             \u001b[0;32mfor\u001b[0m \u001b[0mx\u001b[0m\u001b[0;34m,\u001b[0m \u001b[0md\u001b[0m \u001b[0;32min\u001b[0m \u001b[0menumerate\u001b[0m\u001b[0;34m(\u001b[0m\u001b[0mself\u001b[0m\u001b[0;34m.\u001b[0m\u001b[0mtrain_loader\u001b[0m\u001b[0;34m)\u001b[0m\u001b[0;34m:\u001b[0m\u001b[0;34m\u001b[0m\u001b[0;34m\u001b[0m\u001b[0m\n\u001b[0m\u001b[1;32m    308\u001b[0m                 \u001b[0;32mfor\u001b[0m \u001b[0mk\u001b[0m \u001b[0;32min\u001b[0m \u001b[0md\u001b[0m\u001b[0;34m:\u001b[0m\u001b[0;34m\u001b[0m\u001b[0;34m\u001b[0m\u001b[0m\n\u001b[1;32m    309\u001b[0m                     \u001b[0;32mif\u001b[0m \u001b[0mk\u001b[0m \u001b[0;34m!=\u001b[0m \u001b[0;34m'meta'\u001b[0m\u001b[0;34m:\u001b[0m\u001b[0;34m\u001b[0m\u001b[0;34m\u001b[0m\u001b[0m\n",
      "\u001b[0;32m/opt/conda/lib/python3.7/site-packages/torch/utils/data/dataloader.py\u001b[0m in \u001b[0;36m__next__\u001b[0;34m(self)\u001b[0m\n\u001b[1;32m    344\u001b[0m     \u001b[0;32mdef\u001b[0m \u001b[0m__next__\u001b[0m\u001b[0;34m(\u001b[0m\u001b[0mself\u001b[0m\u001b[0;34m)\u001b[0m\u001b[0;34m:\u001b[0m\u001b[0;34m\u001b[0m\u001b[0;34m\u001b[0m\u001b[0m\n\u001b[1;32m    345\u001b[0m         \u001b[0mindex\u001b[0m \u001b[0;34m=\u001b[0m \u001b[0mself\u001b[0m\u001b[0;34m.\u001b[0m\u001b[0m_next_index\u001b[0m\u001b[0;34m(\u001b[0m\u001b[0;34m)\u001b[0m  \u001b[0;31m# may raise StopIteration\u001b[0m\u001b[0;34m\u001b[0m\u001b[0;34m\u001b[0m\u001b[0m\n\u001b[0;32m--> 346\u001b[0;31m         \u001b[0mdata\u001b[0m \u001b[0;34m=\u001b[0m \u001b[0mself\u001b[0m\u001b[0;34m.\u001b[0m\u001b[0m_dataset_fetcher\u001b[0m\u001b[0;34m.\u001b[0m\u001b[0mfetch\u001b[0m\u001b[0;34m(\u001b[0m\u001b[0mindex\u001b[0m\u001b[0;34m)\u001b[0m  \u001b[0;31m# may raise StopIteration\u001b[0m\u001b[0;34m\u001b[0m\u001b[0;34m\u001b[0m\u001b[0m\n\u001b[0m\u001b[1;32m    347\u001b[0m         \u001b[0;32mif\u001b[0m \u001b[0mself\u001b[0m\u001b[0;34m.\u001b[0m\u001b[0m_pin_memory\u001b[0m\u001b[0;34m:\u001b[0m\u001b[0;34m\u001b[0m\u001b[0;34m\u001b[0m\u001b[0m\n\u001b[1;32m    348\u001b[0m             \u001b[0mdata\u001b[0m \u001b[0;34m=\u001b[0m \u001b[0m_utils\u001b[0m\u001b[0;34m.\u001b[0m\u001b[0mpin_memory\u001b[0m\u001b[0;34m.\u001b[0m\u001b[0mpin_memory\u001b[0m\u001b[0;34m(\u001b[0m\u001b[0mdata\u001b[0m\u001b[0;34m)\u001b[0m\u001b[0;34m\u001b[0m\u001b[0;34m\u001b[0m\u001b[0m\n",
      "\u001b[0;32m/opt/conda/lib/python3.7/site-packages/torch/utils/data/_utils/fetch.py\u001b[0m in \u001b[0;36mfetch\u001b[0;34m(self, possibly_batched_index)\u001b[0m\n\u001b[1;32m     42\u001b[0m     \u001b[0;32mdef\u001b[0m \u001b[0mfetch\u001b[0m\u001b[0;34m(\u001b[0m\u001b[0mself\u001b[0m\u001b[0;34m,\u001b[0m \u001b[0mpossibly_batched_index\u001b[0m\u001b[0;34m)\u001b[0m\u001b[0;34m:\u001b[0m\u001b[0;34m\u001b[0m\u001b[0;34m\u001b[0m\u001b[0m\n\u001b[1;32m     43\u001b[0m         \u001b[0;32mif\u001b[0m \u001b[0mself\u001b[0m\u001b[0;34m.\u001b[0m\u001b[0mauto_collation\u001b[0m\u001b[0;34m:\u001b[0m\u001b[0;34m\u001b[0m\u001b[0;34m\u001b[0m\u001b[0m\n\u001b[0;32m---> 44\u001b[0;31m             \u001b[0mdata\u001b[0m \u001b[0;34m=\u001b[0m \u001b[0;34m[\u001b[0m\u001b[0mself\u001b[0m\u001b[0;34m.\u001b[0m\u001b[0mdataset\u001b[0m\u001b[0;34m[\u001b[0m\u001b[0midx\u001b[0m\u001b[0;34m]\u001b[0m \u001b[0;32mfor\u001b[0m \u001b[0midx\u001b[0m \u001b[0;32min\u001b[0m \u001b[0mpossibly_batched_index\u001b[0m\u001b[0;34m]\u001b[0m\u001b[0;34m\u001b[0m\u001b[0;34m\u001b[0m\u001b[0m\n\u001b[0m\u001b[1;32m     45\u001b[0m         \u001b[0;32melse\u001b[0m\u001b[0;34m:\u001b[0m\u001b[0;34m\u001b[0m\u001b[0;34m\u001b[0m\u001b[0m\n\u001b[1;32m     46\u001b[0m             \u001b[0mdata\u001b[0m \u001b[0;34m=\u001b[0m \u001b[0mself\u001b[0m\u001b[0;34m.\u001b[0m\u001b[0mdataset\u001b[0m\u001b[0;34m[\u001b[0m\u001b[0mpossibly_batched_index\u001b[0m\u001b[0;34m]\u001b[0m\u001b[0;34m\u001b[0m\u001b[0;34m\u001b[0m\u001b[0m\n",
      "\u001b[0;32m/opt/conda/lib/python3.7/site-packages/torch/utils/data/_utils/fetch.py\u001b[0m in \u001b[0;36m<listcomp>\u001b[0;34m(.0)\u001b[0m\n\u001b[1;32m     42\u001b[0m     \u001b[0;32mdef\u001b[0m \u001b[0mfetch\u001b[0m\u001b[0;34m(\u001b[0m\u001b[0mself\u001b[0m\u001b[0;34m,\u001b[0m \u001b[0mpossibly_batched_index\u001b[0m\u001b[0;34m)\u001b[0m\u001b[0;34m:\u001b[0m\u001b[0;34m\u001b[0m\u001b[0;34m\u001b[0m\u001b[0m\n\u001b[1;32m     43\u001b[0m         \u001b[0;32mif\u001b[0m \u001b[0mself\u001b[0m\u001b[0;34m.\u001b[0m\u001b[0mauto_collation\u001b[0m\u001b[0;34m:\u001b[0m\u001b[0;34m\u001b[0m\u001b[0;34m\u001b[0m\u001b[0m\n\u001b[0;32m---> 44\u001b[0;31m             \u001b[0mdata\u001b[0m \u001b[0;34m=\u001b[0m \u001b[0;34m[\u001b[0m\u001b[0mself\u001b[0m\u001b[0;34m.\u001b[0m\u001b[0mdataset\u001b[0m\u001b[0;34m[\u001b[0m\u001b[0midx\u001b[0m\u001b[0;34m]\u001b[0m \u001b[0;32mfor\u001b[0m \u001b[0midx\u001b[0m \u001b[0;32min\u001b[0m \u001b[0mpossibly_batched_index\u001b[0m\u001b[0;34m]\u001b[0m\u001b[0;34m\u001b[0m\u001b[0;34m\u001b[0m\u001b[0m\n\u001b[0m\u001b[1;32m     45\u001b[0m         \u001b[0;32melse\u001b[0m\u001b[0;34m:\u001b[0m\u001b[0;34m\u001b[0m\u001b[0;34m\u001b[0m\u001b[0m\n\u001b[1;32m     46\u001b[0m             \u001b[0mdata\u001b[0m \u001b[0;34m=\u001b[0m \u001b[0mself\u001b[0m\u001b[0;34m.\u001b[0m\u001b[0mdataset\u001b[0m\u001b[0;34m[\u001b[0m\u001b[0mpossibly_batched_index\u001b[0m\u001b[0;34m]\u001b[0m\u001b[0;34m\u001b[0m\u001b[0;34m\u001b[0m\u001b[0m\n",
      "\u001b[0;32m/datasets/home/home-01/30/230/psarangi/Project_folder/MoDL_CenterNet/src/local_notebooks/../lib/datasets/sample/ctdet.py\u001b[0m in \u001b[0;36m__getitem__\u001b[0;34m(self, index)\u001b[0m\n\u001b[1;32m    128\u001b[0m         \u001b[0;32mif\u001b[0m \u001b[0mself\u001b[0m\u001b[0;34m.\u001b[0m\u001b[0mopt\u001b[0m\u001b[0;34m.\u001b[0m\u001b[0mdense_wh\u001b[0m\u001b[0;34m:\u001b[0m\u001b[0;34m\u001b[0m\u001b[0;34m\u001b[0m\u001b[0m\n\u001b[1;32m    129\u001b[0m           \u001b[0mdraw_dense_reg\u001b[0m\u001b[0;34m(\u001b[0m\u001b[0mdense_wh\u001b[0m\u001b[0;34m,\u001b[0m \u001b[0mhm\u001b[0m\u001b[0;34m.\u001b[0m\u001b[0mmax\u001b[0m\u001b[0;34m(\u001b[0m\u001b[0maxis\u001b[0m\u001b[0;34m=\u001b[0m\u001b[0;36m0\u001b[0m\u001b[0;34m)\u001b[0m\u001b[0;34m,\u001b[0m \u001b[0mct_int\u001b[0m\u001b[0;34m,\u001b[0m \u001b[0mwh\u001b[0m\u001b[0;34m[\u001b[0m\u001b[0mk\u001b[0m\u001b[0;34m]\u001b[0m\u001b[0;34m,\u001b[0m \u001b[0mradius\u001b[0m\u001b[0;34m)\u001b[0m\u001b[0;34m\u001b[0m\u001b[0;34m\u001b[0m\u001b[0m\n\u001b[0;32m--> 130\u001b[0;31m         gt_det.append([ct[0] - w / 2, ct[1] - h / 2, \n\u001b[0m\u001b[1;32m    131\u001b[0m                        ct[0] + w / 2, ct[1] + h / 2, 1, cls_id])\n\u001b[1;32m    132\u001b[0m \u001b[0;34m\u001b[0m\u001b[0m\n",
      "\u001b[0;31mKeyboardInterrupt\u001b[0m: "
     ]
    }
   ],
   "source": [
    "exp2.run2(num_epochs=200)"
   ]
  },
  {
   "cell_type": "code",
   "execution_count": null,
   "metadata": {},
   "outputs": [],
   "source": [
    "print(exp2.history)\n",
    "plt.plot(exp2.history)\n",
    "plt.show()"
   ]
  },
  {
   "cell_type": "code",
   "execution_count": null,
   "metadata": {},
   "outputs": [],
   "source": [
    "exp2.evaluate2()"
   ]
  },
  {
   "cell_type": "code",
   "execution_count": null,
   "metadata": {},
   "outputs": [],
   "source": [
    "sys.path.append(sys.path[0]+'/../lib/models/networks/DCNv2')\n",
    "from detectors.ctdet import CtdetDetector"
   ]
  },
  {
   "cell_type": "code",
   "execution_count": null,
   "metadata": {},
   "outputs": [],
   "source": [
    "opt.load_model = sys.path[0]+'/../../models/ctdet_coco_resdcn18.pth'\n",
    "opt.dataset = 'coco'\n",
    "opt.debugger_theme = 'white'\n",
    "opt.flip_test = False\n",
    "opt.K = 100\n",
    "opt.nms = False\n",
    "opt.vis_thresh = 0.3"
   ]
  },
  {
   "cell_type": "code",
   "execution_count": null,
   "metadata": {},
   "outputs": [],
   "source": [
    "detector = CtdetDetector(opt)\n",
    "detector.model=net.model\n",
    "detector.model.eval();"
   ]
  },
  {
   "cell_type": "code",
   "execution_count": null,
   "metadata": {},
   "outputs": [],
   "source": [
    "tst_id=40\n",
    "img_id = valset.images[tst_id]\n",
    "img_info = valset.coco.loadImgs(ids=[img_id])[0]\n",
    "img_path = os.path.join(valset.img_dir, img_info['file_name'])\n",
    "ret = detector.run(img_path)\n",
    "#results[img_id] = ret['results']"
   ]
  },
  {
   "cell_type": "code",
   "execution_count": null,
   "metadata": {
    "scrolled": false
   },
   "outputs": [],
   "source": [
    "coco_class_name = [\n",
    "     'person', 'bicycle', 'car', 'motorcycle', 'airplane',\n",
    "     'bus', 'train', 'truck', 'boat', 'traffic light', 'fire hydrant',\n",
    "     'stop sign', 'parking meter', 'bench', 'bird', 'cat', 'dog', 'horse',\n",
    "     'sheep', 'cow', 'elephant', 'bear', 'zebra', 'giraffe', 'backpack',\n",
    "     'umbrella', 'handbag', 'tie', 'suitcase', 'frisbee', 'skis',\n",
    "     'snowboard', 'sports ball', 'kite', 'baseball bat', 'baseball glove',\n",
    "     'skateboard', 'surfboard', 'tennis racket', 'bottle', 'wine glass',\n",
    "     'cup', 'fork', 'knife', 'spoon', 'bowl', 'banana', 'apple', 'sandwich',\n",
    "     'orange', 'broccoli', 'carrot', 'hot dog', 'pizza', 'donut', 'cake',\n",
    "     'chair', 'couch', 'potted plant', 'bed', 'dining table', 'toilet', 'tv',\n",
    "     'laptop', 'mouse', 'remote', 'keyboard', 'cell phone', 'microwave',\n",
    "     'oven', 'toaster', 'sink', 'refrigerator', 'book', 'clock', 'vase',\n",
    "     'scissors', 'teddy bear', 'hair drier', 'toothbrush'\n",
    "]\n",
    "import cv2\n",
    "imgIds_test=np.random.permutation(len(valset))\n",
    "for tst_id in range(10):\n",
    "    #print(len(valset))\n",
    "    tst_id=imgIds_test[tst_id]\n",
    "    img_id = valset.images[tst_id]\n",
    "    img_info = valset.coco.loadImgs(ids=[img_id])[0]\n",
    "    img_path = os.path.join(valset.img_dir, img_info['file_name'])\n",
    "    ret = detector.run(img_path)\n",
    "    im_id = valset[tst_id]['meta']['img_id']\n",
    "    print(im_id)\n",
    "    img = valset.coco.loadImgs(im_id)[0]\n",
    "    print(img)\n",
    "    img_dir='~/Project_folder/MoDL_CenterNet/data/coco/val2017/'\n",
    "    f_name=img_dir\n",
    "    f_name+=img['file_name']\n",
    "    import skimage.io as io\n",
    "    I = io.imread(f_name)\n",
    "    show_txt = True\n",
    "    for c_id in range(80):\n",
    "        for j in range(ret['results'][c_id+1].shape[0]):\n",
    "            if ret['results'][c_id+1][j][4]>=opt.vis_thresh:\n",
    "                bbox = ret['results'][c_id+1][j]\n",
    "                cv2.rectangle(I, (bbox[0], bbox[1]), (bbox[2], bbox[3]), (0,255,0), 2)\n",
    "                if show_txt:\n",
    "                    txt = '{}{:.1f}'.format(coco_class_name[c_id], bbox[4]) # text+confidence\n",
    "                    font = cv2.FONT_HERSHEY_SIMPLEX\n",
    "                    cat_size = cv2.getTextSize(txt, font, 0.5, 2)[0]\n",
    "                    cv2.rectangle(I, (bbox[0], int(bbox[1] - cat_size[1] - 2)),(int(bbox[0] + cat_size[0]), int(bbox[1] - 2)), (0,255,0), -1)\n",
    "                    cv2.putText(I, txt, (bbox[0], int(bbox[1] - 2)), font, 0.5, (0, 0, 0),thickness=1, lineType=cv2.LINE_AA)\n",
    "\n",
    "\n",
    "    fig, axes = plt.subplots(figsize=(13,13))\n",
    "    axes.imshow(I)"
   ]
  },
  {
   "cell_type": "code",
   "execution_count": null,
   "metadata": {},
   "outputs": [],
   "source": [
    "valset = Dataset(opt, 'val')\n",
    "results = {}\n",
    "for tst_id in range(len(valset)):\n",
    "    if np.mod(tst_id,100)==0:\n",
    "        print(tst_id)\n",
    "    img_id = valset.images[tst_id]\n",
    "    img_info = valset.coco.loadImgs(ids=[img_id])[0]\n",
    "    img_path = os.path.join(valset.img_dir, img_info['file_name'])\n",
    "    ret = detector.run(img_path)\n",
    "    results[img_id] = ret['results']"
   ]
  },
  {
   "cell_type": "code",
   "execution_count": null,
   "metadata": {},
   "outputs": [],
   "source": [
    "import sys\n",
    "opt.save_dir = sys.path[0]+'/results_weighted_l1_lambda1'\n",
    "valset.run_eval(results, opt.save_dir)"
   ]
  },
  {
   "cell_type": "code",
   "execution_count": null,
   "metadata": {},
   "outputs": [],
   "source": [
    "import cv2\n",
    "import skimage.io as io\n",
    "img_dir=sys.path[0]+'/../../data/coco/val2017/'\n",
    "num_cols = 1\n",
    "P=4\n",
    "fig, axes = plt.subplots(ncols=num_cols, nrows=int(P/num_cols), figsize=(20,300))\n",
    "show_txt = True\n",
    "\n",
    "coco_class_name = [\n",
    "     'person', 'bicycle', 'car', 'motorcycle', 'airplane',\n",
    "     'bus', 'train', 'truck', 'boat', 'traffic light', 'fire hydrant',\n",
    "     'stop sign', 'parking meter', 'bench', 'bird', 'cat', 'dog', 'horse',\n",
    "     'sheep', 'cow', 'elephant', 'bear', 'zebra', 'giraffe', 'backpack',\n",
    "     'umbrella', 'handbag', 'tie', 'suitcase', 'frisbee', 'skis',\n",
    "     'snowboard', 'sports ball', 'kite', 'baseball bat', 'baseball glove',\n",
    "     'skateboard', 'surfboard', 'tennis racket', 'bottle', 'wine glass',\n",
    "     'cup', 'fork', 'knife', 'spoon', 'bowl', 'banana', 'apple', 'sandwich',\n",
    "     'orange', 'broccoli', 'carrot', 'hot dog', 'pizza', 'donut', 'cake',\n",
    "     'chair', 'couch', 'potted plant', 'bed', 'dining table', 'toilet', 'tv',\n",
    "     'laptop', 'mouse', 'remote', 'keyboard', 'cell phone', 'microwave',\n",
    "     'oven', 'toaster', 'sink', 'refrigerator', 'book', 'clock', 'vase',\n",
    "     'scissors', 'teddy bear', 'hair drier', 'toothbrush'\n",
    "]\n",
    "\n",
    "\n",
    "\n",
    "for ind in range(P):\n",
    "    img_id = valset.images[ind]\n",
    "    im_id = img_id\n",
    "    img = valset.coco.loadImgs(im_id)[0]\n",
    "    f_name=img_dir\n",
    "    f_name+=img['file_name']\n",
    "    I = io.imread(f_name)\n",
    "    for c_id in range(80):\n",
    "        for j in range(results[img_id][c_id+1].shape[0]):\n",
    "            if results[img_id][c_id+1][j][4]>=opt.vis_thresh:\n",
    "                bbox = results[img_id][c_id+1][j]\n",
    "                cv2.rectangle(I, (bbox[0], bbox[1]), (bbox[2], bbox[3]), (0,255,0), 2)\n",
    "                if show_txt:\n",
    "                    txt = '{}{:.1f}'.format(coco_class_name[c_id], bbox[4]) # text+confidence\n",
    "                    font = cv2.FONT_HERSHEY_SIMPLEX\n",
    "                    cat_size = cv2.getTextSize(txt, font, 0.5, 2)[0]\n",
    "                    cv2.rectangle(I, (bbox[0], int(bbox[1] - cat_size[1] - 2)),\n",
    "                                  (int(bbox[0] + cat_size[0]), int(bbox[1] - 2)), (0,255,0), -1)\n",
    "                    cv2.putText(I, txt, (bbox[0], int(bbox[1] - 2)), \n",
    "                                font, 0.5, (0, 0, 0),thickness=1, lineType=cv2.LINE_AA)\n",
    "    axes[ind].imshow(I)"
   ]
  },
  {
   "cell_type": "code",
   "execution_count": null,
   "metadata": {},
   "outputs": [],
   "source": []
  }
 ],
 "metadata": {
  "kernelspec": {
   "display_name": "Python 3",
   "language": "python",
   "name": "python3"
  },
  "language_info": {
   "codemirror_mode": {
    "name": "ipython",
    "version": 3
   },
   "file_extension": ".py",
   "mimetype": "text/x-python",
   "name": "python",
   "nbconvert_exporter": "python",
   "pygments_lexer": "ipython3",
   "version": "3.7.3"
  }
 },
 "nbformat": 4,
 "nbformat_minor": 2
}
